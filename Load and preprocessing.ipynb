{
 "cells": [
  {
   "metadata": {},
   "cell_type": "markdown",
   "source": [
    "# Loading of the dataset and First preprocessing step\n",
    "for this project I chose the dataset available on Hugging face ncbi-virus-complete-dna-v230722, but reducing its size, the original dataset contains over 2 million rows, but for a matter of complexity and capacity of the pc I took a portion containing the sequence that have a lenght less than 4000 "
   ],
   "id": "13198ea999ae2fb4"
  },
  {
   "metadata": {},
   "cell_type": "markdown",
   "source": "To download the complete dataset, you can run the cell below which will automatically check if the dataset is in the folder, otherwise the download",
   "id": "ff81aa1ad30d5088"
  },
  {
   "metadata": {
    "ExecuteTime": {
     "end_time": "2024-07-13T21:17:45.765176Z",
     "start_time": "2024-07-13T21:17:39.285027Z"
    }
   },
   "cell_type": "code",
   "source": [
    "import json\n",
    "import glob\n",
    "\n",
    "import numpy as np\n",
    "from datasets import load_dataset\n",
    "import pandas as pd\n",
    "import os\n",
    "from imblearn.over_sampling import SMOTEN\n",
    "from tqdm.notebook import tqdm\n",
    "\n",
    "\n",
    "path_dataframe = '/Volumes/Seagate Bas/Vito/ML/Dataset/'\n",
    "path_multiclass = path_dataframe + 'MulticlassDatasets/'\n",
    "df_name = 'ncbi-virus-all-complete-nucleotides-2023-07-22'\n",
    "\n",
    "# if we want to load the file from parquet or from jsonl\n",
    "parquet = False\n",
    "\n",
    "# number of rows selected\n",
    "n = 200000\n",
    "# max length of the sequence\n",
    "max_len  = 4000"
   ],
   "id": "f7543ecb4132e51e",
   "outputs": [],
   "execution_count": 1
  },
  {
   "metadata": {},
   "cell_type": "markdown",
   "source": "To reduce the dataset size we take the at most 200 000 rows of the dataset",
   "id": "aa6a470e0dc2ee9d"
  },
  {
   "metadata": {
    "ExecuteTime": {
     "end_time": "2024-07-13T21:38:16.662621Z",
     "start_time": "2024-07-13T21:17:48.313939Z"
    }
   },
   "cell_type": "code",
   "source": [
    "if not glob.glob(path_dataframe + f'{df_name}.jsonl'):\n",
    "    print('Downloading dataset...')\n",
    "    # load dataset from hugging face\n",
    "    df = load_dataset(\"LKarlo/ncbi-virus-complete-dna-v230722\")['train']\n",
    "    # Save the dataset on parquet extention\n",
    "    df.to_parquet(path_dataframe + f'{df_name}.parquet')\n",
    "    df = df.sample(n=n)\n",
    "else: \n",
    "    if os.path.exists(path_dataframe + f'ncbi-virus-{n}-dna.jsonl'):\n",
    "        print(f'Loading the dataset consisting of at most {n} rows in jsonl format')\n",
    "        df = None\n",
    "        with open(path_dataframe + f'ncbi-virus-{n}-dna.jsonl') as f:\n",
    "            for index, line in tqdm(enumerate(f)):\n",
    "                data = json.loads(line)\n",
    "                if df is None:\n",
    "                    df = pd.DataFrame(data=data, index=[0])\n",
    "                else:\n",
    "                    df.loc[len(df)] = data\n",
    "    else:    \n",
    "        print(f'Loading at most {n} raws from the entire dataset from jsonl...')\n",
    "        df = None\n",
    "        with open(path_dataframe + f'{df_name}.jsonl') as f:\n",
    "            for index, line in tqdm(enumerate(f)):\n",
    "                data = json.loads(line)\n",
    "                if df is None:\n",
    "                    df = pd.DataFrame(data=data, index=[0])\n",
    "                else:\n",
    "                    if index < n:\n",
    "                        continue\n",
    "                    elif len(df) == n:\n",
    "                        break\n",
    "                    if int(data['Length']) < max_len:\n",
    "                        df.loc[len(df)] = data\n",
    "df.head()                "
   ],
   "id": "3e606c890db3f2f1",
   "outputs": [
    {
     "name": "stdout",
     "output_type": "stream",
     "text": [
      "Loading the dataset consisting of 200000 rows in jsonl format\n"
     ]
    },
    {
     "data": {
      "text/plain": [
       "0it [00:00, ?it/s]"
      ],
      "application/vnd.jupyter.widget-view+json": {
       "version_major": 2,
       "version_minor": 0,
       "model_id": "b5505891b9304366a8c0538bca53c285"
      }
     },
     "metadata": {},
     "output_type": "display_data"
    },
    {
     "data": {
      "text/plain": [
       "     Accession          Release Date               Species           Genus  \\\n",
       "0  NC_079174.1  2023-05-17T00:00:00Z  Erwinia phage Fifi44   Loessnervirus   \n",
       "1   OQ599920.1  2023-06-20T00:00:00Z  Banfec anellovirus 1  Wawtorquevirus   \n",
       "2   OQ599921.1  2023-06-20T00:00:00Z  Banfec anellovirus 2  Wawtorquevirus   \n",
       "3   OQ599922.1  2023-06-20T00:00:00Z   Banfec circovirus 1      Circovirus   \n",
       "4   OQ599923.1  2023-06-20T00:00:00Z   Banfec circovirus 1      Circovirus   \n",
       "\n",
       "          Family Molecule Type Length Sequence Type               Host  \\\n",
       "0   Chaseviridae         dsDNA  53559        RefSeq  Erwinia amylovora   \n",
       "1  Anelloviridae      ssDNA(-)   2471       GenBank      Canis latrans   \n",
       "2  Anelloviridae      ssDNA(-)   2479       GenBank      Canis latrans   \n",
       "3   Circoviridae    ssDNA(+/-)   1680       GenBank      Canis latrans   \n",
       "4   Circoviridae    ssDNA(+/-)   1680       GenBank      Canis latrans   \n",
       "\n",
       "  Collection Date                                           Sequence  \n",
       "0         2020-09  TGTTCCATGTGAGTTACTGAGTTCCGTAATCCTATTATAAAGGCCC...  \n",
       "1      2021-12-17  CCCCCCCCCTTAAACCCCCCCCGCAGGGGGGCTCCGCCCCCCCTGC...  \n",
       "2      2021-12-17  CCCCCCCCGCACCCCCCCAAGGGGCTCCGCCCCTTAAACCCCATTG...  \n",
       "3      2021-04-24  TATTACCGGAGACTTTGGAACCGTGGAACAGGCCGATCTGTAATGA...  \n",
       "4      2021-04-23  TATTACCGGAGACTTTGGAACCGTGGAACAGGCCGATCTGTAATGA...  "
      ],
      "text/html": [
       "<div>\n",
       "<style scoped>\n",
       "    .dataframe tbody tr th:only-of-type {\n",
       "        vertical-align: middle;\n",
       "    }\n",
       "\n",
       "    .dataframe tbody tr th {\n",
       "        vertical-align: top;\n",
       "    }\n",
       "\n",
       "    .dataframe thead th {\n",
       "        text-align: right;\n",
       "    }\n",
       "</style>\n",
       "<table border=\"1\" class=\"dataframe\">\n",
       "  <thead>\n",
       "    <tr style=\"text-align: right;\">\n",
       "      <th></th>\n",
       "      <th>Accession</th>\n",
       "      <th>Release Date</th>\n",
       "      <th>Species</th>\n",
       "      <th>Genus</th>\n",
       "      <th>Family</th>\n",
       "      <th>Molecule Type</th>\n",
       "      <th>Length</th>\n",
       "      <th>Sequence Type</th>\n",
       "      <th>Host</th>\n",
       "      <th>Collection Date</th>\n",
       "      <th>Sequence</th>\n",
       "    </tr>\n",
       "  </thead>\n",
       "  <tbody>\n",
       "    <tr>\n",
       "      <th>0</th>\n",
       "      <td>NC_079174.1</td>\n",
       "      <td>2023-05-17T00:00:00Z</td>\n",
       "      <td>Erwinia phage Fifi44</td>\n",
       "      <td>Loessnervirus</td>\n",
       "      <td>Chaseviridae</td>\n",
       "      <td>dsDNA</td>\n",
       "      <td>53559</td>\n",
       "      <td>RefSeq</td>\n",
       "      <td>Erwinia amylovora</td>\n",
       "      <td>2020-09</td>\n",
       "      <td>TGTTCCATGTGAGTTACTGAGTTCCGTAATCCTATTATAAAGGCCC...</td>\n",
       "    </tr>\n",
       "    <tr>\n",
       "      <th>1</th>\n",
       "      <td>OQ599920.1</td>\n",
       "      <td>2023-06-20T00:00:00Z</td>\n",
       "      <td>Banfec anellovirus 1</td>\n",
       "      <td>Wawtorquevirus</td>\n",
       "      <td>Anelloviridae</td>\n",
       "      <td>ssDNA(-)</td>\n",
       "      <td>2471</td>\n",
       "      <td>GenBank</td>\n",
       "      <td>Canis latrans</td>\n",
       "      <td>2021-12-17</td>\n",
       "      <td>CCCCCCCCCTTAAACCCCCCCCGCAGGGGGGCTCCGCCCCCCCTGC...</td>\n",
       "    </tr>\n",
       "    <tr>\n",
       "      <th>2</th>\n",
       "      <td>OQ599921.1</td>\n",
       "      <td>2023-06-20T00:00:00Z</td>\n",
       "      <td>Banfec anellovirus 2</td>\n",
       "      <td>Wawtorquevirus</td>\n",
       "      <td>Anelloviridae</td>\n",
       "      <td>ssDNA(-)</td>\n",
       "      <td>2479</td>\n",
       "      <td>GenBank</td>\n",
       "      <td>Canis latrans</td>\n",
       "      <td>2021-12-17</td>\n",
       "      <td>CCCCCCCCGCACCCCCCCAAGGGGCTCCGCCCCTTAAACCCCATTG...</td>\n",
       "    </tr>\n",
       "    <tr>\n",
       "      <th>3</th>\n",
       "      <td>OQ599922.1</td>\n",
       "      <td>2023-06-20T00:00:00Z</td>\n",
       "      <td>Banfec circovirus 1</td>\n",
       "      <td>Circovirus</td>\n",
       "      <td>Circoviridae</td>\n",
       "      <td>ssDNA(+/-)</td>\n",
       "      <td>1680</td>\n",
       "      <td>GenBank</td>\n",
       "      <td>Canis latrans</td>\n",
       "      <td>2021-04-24</td>\n",
       "      <td>TATTACCGGAGACTTTGGAACCGTGGAACAGGCCGATCTGTAATGA...</td>\n",
       "    </tr>\n",
       "    <tr>\n",
       "      <th>4</th>\n",
       "      <td>OQ599923.1</td>\n",
       "      <td>2023-06-20T00:00:00Z</td>\n",
       "      <td>Banfec circovirus 1</td>\n",
       "      <td>Circovirus</td>\n",
       "      <td>Circoviridae</td>\n",
       "      <td>ssDNA(+/-)</td>\n",
       "      <td>1680</td>\n",
       "      <td>GenBank</td>\n",
       "      <td>Canis latrans</td>\n",
       "      <td>2021-04-23</td>\n",
       "      <td>TATTACCGGAGACTTTGGAACCGTGGAACAGGCCGATCTGTAATGA...</td>\n",
       "    </tr>\n",
       "  </tbody>\n",
       "</table>\n",
       "</div>"
      ]
     },
     "execution_count": 2,
     "metadata": {},
     "output_type": "execute_result"
    }
   ],
   "execution_count": 2
  },
  {
   "metadata": {},
   "cell_type": "markdown",
   "source": "Get the first 200 000 row of the dataset and save it",
   "id": "a103835611070246"
  },
  {
   "metadata": {
    "ExecuteTime": {
     "end_time": "2024-07-13T21:38:21.319046Z",
     "start_time": "2024-07-13T21:38:16.666745Z"
    }
   },
   "cell_type": "code",
   "source": [
    "if not os.path.exists(path_dataframe + f'ncbi-virus-{n}-dna.*'):\n",
    "    # Save parquet file in local\n",
    "    print('Saving subset of dataset...')\n",
    "    df.to_json(path_dataframe+f'ncbi-virus-{n}-dna.jsonl', index=False, lines=True, orient='records')"
   ],
   "id": "37bb4559688d7105",
   "outputs": [
    {
     "name": "stdout",
     "output_type": "stream",
     "text": [
      "Saving subset of dataset...\n"
     ]
    }
   ],
   "execution_count": 3
  },
  {
   "metadata": {},
   "cell_type": "markdown",
   "source": "## For the Multiclass classification task we analize the distribution of the feature target",
   "id": "f9c40e279f3d0257"
  },
  {
   "metadata": {
    "ExecuteTime": {
     "end_time": "2024-07-13T21:38:21.389681Z",
     "start_time": "2024-07-13T21:38:21.320886Z"
    }
   },
   "cell_type": "code",
   "source": "df['Family'].value_counts()",
   "id": "c1aeb6d84297e448",
   "outputs": [
    {
     "data": {
      "text/plain": [
       "Family\n",
       "Geminiviridae       15183\n",
       "Hepadnaviridae      11360\n",
       "Orthomyxoviridae    11344\n",
       "Circoviridae        10076\n",
       "nan                  9633\n",
       "                    ...  \n",
       "Bidnaviridae            1\n",
       "Dicistroviridae         1\n",
       "Iflaviridae             1\n",
       "Qinviridae              1\n",
       "Steitzviridae           1\n",
       "Name: count, Length: 101, dtype: int64"
      ]
     },
     "execution_count": 4,
     "metadata": {},
     "output_type": "execute_result"
    }
   ],
   "execution_count": 4
  },
  {
   "metadata": {},
   "cell_type": "markdown",
   "source": "Let’s delete the rows that contain nan to the family",
   "id": "1eda6fd36109a700"
  },
  {
   "metadata": {
    "ExecuteTime": {
     "end_time": "2024-07-13T21:38:21.514919Z",
     "start_time": "2024-07-13T21:38:21.391822Z"
    }
   },
   "cell_type": "code",
   "source": [
    "index = df[df['Family'] == 'nan'].index\n",
    "df.drop(index, inplace=True)\n",
    "df.reset_index(drop=True, inplace=True)\n",
    "df.head()"
   ],
   "id": "2bfa3fed80dc024a",
   "outputs": [
    {
     "data": {
      "text/plain": [
       "     Accession          Release Date               Species           Genus  \\\n",
       "0  NC_079174.1  2023-05-17T00:00:00Z  Erwinia phage Fifi44   Loessnervirus   \n",
       "1   OQ599920.1  2023-06-20T00:00:00Z  Banfec anellovirus 1  Wawtorquevirus   \n",
       "2   OQ599921.1  2023-06-20T00:00:00Z  Banfec anellovirus 2  Wawtorquevirus   \n",
       "3   OQ599922.1  2023-06-20T00:00:00Z   Banfec circovirus 1      Circovirus   \n",
       "4   OQ599923.1  2023-06-20T00:00:00Z   Banfec circovirus 1      Circovirus   \n",
       "\n",
       "          Family Molecule Type Length Sequence Type               Host  \\\n",
       "0   Chaseviridae         dsDNA  53559        RefSeq  Erwinia amylovora   \n",
       "1  Anelloviridae      ssDNA(-)   2471       GenBank      Canis latrans   \n",
       "2  Anelloviridae      ssDNA(-)   2479       GenBank      Canis latrans   \n",
       "3   Circoviridae    ssDNA(+/-)   1680       GenBank      Canis latrans   \n",
       "4   Circoviridae    ssDNA(+/-)   1680       GenBank      Canis latrans   \n",
       "\n",
       "  Collection Date                                           Sequence  \n",
       "0         2020-09  TGTTCCATGTGAGTTACTGAGTTCCGTAATCCTATTATAAAGGCCC...  \n",
       "1      2021-12-17  CCCCCCCCCTTAAACCCCCCCCGCAGGGGGGCTCCGCCCCCCCTGC...  \n",
       "2      2021-12-17  CCCCCCCCGCACCCCCCCAAGGGGCTCCGCCCCTTAAACCCCATTG...  \n",
       "3      2021-04-24  TATTACCGGAGACTTTGGAACCGTGGAACAGGCCGATCTGTAATGA...  \n",
       "4      2021-04-23  TATTACCGGAGACTTTGGAACCGTGGAACAGGCCGATCTGTAATGA...  "
      ],
      "text/html": [
       "<div>\n",
       "<style scoped>\n",
       "    .dataframe tbody tr th:only-of-type {\n",
       "        vertical-align: middle;\n",
       "    }\n",
       "\n",
       "    .dataframe tbody tr th {\n",
       "        vertical-align: top;\n",
       "    }\n",
       "\n",
       "    .dataframe thead th {\n",
       "        text-align: right;\n",
       "    }\n",
       "</style>\n",
       "<table border=\"1\" class=\"dataframe\">\n",
       "  <thead>\n",
       "    <tr style=\"text-align: right;\">\n",
       "      <th></th>\n",
       "      <th>Accession</th>\n",
       "      <th>Release Date</th>\n",
       "      <th>Species</th>\n",
       "      <th>Genus</th>\n",
       "      <th>Family</th>\n",
       "      <th>Molecule Type</th>\n",
       "      <th>Length</th>\n",
       "      <th>Sequence Type</th>\n",
       "      <th>Host</th>\n",
       "      <th>Collection Date</th>\n",
       "      <th>Sequence</th>\n",
       "    </tr>\n",
       "  </thead>\n",
       "  <tbody>\n",
       "    <tr>\n",
       "      <th>0</th>\n",
       "      <td>NC_079174.1</td>\n",
       "      <td>2023-05-17T00:00:00Z</td>\n",
       "      <td>Erwinia phage Fifi44</td>\n",
       "      <td>Loessnervirus</td>\n",
       "      <td>Chaseviridae</td>\n",
       "      <td>dsDNA</td>\n",
       "      <td>53559</td>\n",
       "      <td>RefSeq</td>\n",
       "      <td>Erwinia amylovora</td>\n",
       "      <td>2020-09</td>\n",
       "      <td>TGTTCCATGTGAGTTACTGAGTTCCGTAATCCTATTATAAAGGCCC...</td>\n",
       "    </tr>\n",
       "    <tr>\n",
       "      <th>1</th>\n",
       "      <td>OQ599920.1</td>\n",
       "      <td>2023-06-20T00:00:00Z</td>\n",
       "      <td>Banfec anellovirus 1</td>\n",
       "      <td>Wawtorquevirus</td>\n",
       "      <td>Anelloviridae</td>\n",
       "      <td>ssDNA(-)</td>\n",
       "      <td>2471</td>\n",
       "      <td>GenBank</td>\n",
       "      <td>Canis latrans</td>\n",
       "      <td>2021-12-17</td>\n",
       "      <td>CCCCCCCCCTTAAACCCCCCCCGCAGGGGGGCTCCGCCCCCCCTGC...</td>\n",
       "    </tr>\n",
       "    <tr>\n",
       "      <th>2</th>\n",
       "      <td>OQ599921.1</td>\n",
       "      <td>2023-06-20T00:00:00Z</td>\n",
       "      <td>Banfec anellovirus 2</td>\n",
       "      <td>Wawtorquevirus</td>\n",
       "      <td>Anelloviridae</td>\n",
       "      <td>ssDNA(-)</td>\n",
       "      <td>2479</td>\n",
       "      <td>GenBank</td>\n",
       "      <td>Canis latrans</td>\n",
       "      <td>2021-12-17</td>\n",
       "      <td>CCCCCCCCGCACCCCCCCAAGGGGCTCCGCCCCTTAAACCCCATTG...</td>\n",
       "    </tr>\n",
       "    <tr>\n",
       "      <th>3</th>\n",
       "      <td>OQ599922.1</td>\n",
       "      <td>2023-06-20T00:00:00Z</td>\n",
       "      <td>Banfec circovirus 1</td>\n",
       "      <td>Circovirus</td>\n",
       "      <td>Circoviridae</td>\n",
       "      <td>ssDNA(+/-)</td>\n",
       "      <td>1680</td>\n",
       "      <td>GenBank</td>\n",
       "      <td>Canis latrans</td>\n",
       "      <td>2021-04-24</td>\n",
       "      <td>TATTACCGGAGACTTTGGAACCGTGGAACAGGCCGATCTGTAATGA...</td>\n",
       "    </tr>\n",
       "    <tr>\n",
       "      <th>4</th>\n",
       "      <td>OQ599923.1</td>\n",
       "      <td>2023-06-20T00:00:00Z</td>\n",
       "      <td>Banfec circovirus 1</td>\n",
       "      <td>Circovirus</td>\n",
       "      <td>Circoviridae</td>\n",
       "      <td>ssDNA(+/-)</td>\n",
       "      <td>1680</td>\n",
       "      <td>GenBank</td>\n",
       "      <td>Canis latrans</td>\n",
       "      <td>2021-04-23</td>\n",
       "      <td>TATTACCGGAGACTTTGGAACCGTGGAACAGGCCGATCTGTAATGA...</td>\n",
       "    </tr>\n",
       "  </tbody>\n",
       "</table>\n",
       "</div>"
      ]
     },
     "execution_count": 5,
     "metadata": {},
     "output_type": "execute_result"
    }
   ],
   "execution_count": 5
  },
  {
   "metadata": {
    "ExecuteTime": {
     "end_time": "2024-07-13T21:38:21.526762Z",
     "start_time": "2024-07-13T21:38:21.515995Z"
    }
   },
   "cell_type": "code",
   "source": "df['Family'].value_counts()",
   "id": "c262270f1a132e5c",
   "outputs": [
    {
     "data": {
      "text/plain": [
       "Family\n",
       "Geminiviridae       15183\n",
       "Hepadnaviridae      11360\n",
       "Orthomyxoviridae    11344\n",
       "Circoviridae        10076\n",
       "Avsunviroidae        7785\n",
       "                    ...  \n",
       "Bidnaviridae            1\n",
       "Dicistroviridae         1\n",
       "Iflaviridae             1\n",
       "Qinviridae              1\n",
       "Steitzviridae           1\n",
       "Name: count, Length: 100, dtype: int64"
      ]
     },
     "execution_count": 6,
     "metadata": {},
     "output_type": "execute_result"
    }
   ],
   "execution_count": 6
  },
  {
   "metadata": {},
   "cell_type": "markdown",
   "source": [
    "### We select the 4 most frequent classes\n",
    "We select Geminiviridae, Spinareoviridae, Phenuiviridae and Circoviridae, and save the dataset both to make an unbalanced classification and to oversample the dataset."
   ],
   "id": "d6178789a0387e93"
  },
  {
   "metadata": {
    "ExecuteTime": {
     "end_time": "2024-07-13T21:38:21.562484Z",
     "start_time": "2024-07-13T21:38:21.527859Z"
    }
   },
   "cell_type": "code",
   "source": [
    "selected_df = df.query(\n",
    "    'Family == \"Geminiviridae\" or '\n",
    "    'Family == \"Hepadnaviridae\" or '\n",
    "    'Family == \"Orthomyxoviridae\" or '\n",
    "    'Family == \"Circoviridae\"'\n",
    ")"
   ],
   "id": "b23cec5db573e935",
   "outputs": [],
   "execution_count": 7
  },
  {
   "metadata": {
    "ExecuteTime": {
     "end_time": "2024-07-13T21:38:21.570718Z",
     "start_time": "2024-07-13T21:38:21.563298Z"
    }
   },
   "cell_type": "code",
   "source": "selected_df['Family'].value_counts()",
   "id": "41860793c7af7221",
   "outputs": [
    {
     "data": {
      "text/plain": [
       "Family\n",
       "Geminiviridae       15183\n",
       "Hepadnaviridae      11360\n",
       "Orthomyxoviridae    11344\n",
       "Circoviridae        10076\n",
       "Name: count, dtype: int64"
      ]
     },
     "execution_count": 8,
     "metadata": {},
     "output_type": "execute_result"
    }
   ],
   "execution_count": 8
  },
  {
   "metadata": {},
   "cell_type": "markdown",
   "source": "We check if the dataset has already been saved and save it",
   "id": "818a5212536bedb7"
  },
  {
   "metadata": {
    "ExecuteTime": {
     "end_time": "2024-07-13T21:38:21.574090Z",
     "start_time": "2024-07-13T21:38:21.571298Z"
    }
   },
   "cell_type": "code",
   "source": [
    "if not os.path.exists(path_multiclass+'/UnBalancedDataset.jsonl'):\n",
    "    print('Saving the dataset...')\n",
    "    selected_df.to_json(path_multiclass + '/UnBalancedDataset.jsonl', lines=True, orient='records')\n",
    "    print('Done!')\n",
    "else:\n",
    "    print('Dataset already exists')"
   ],
   "id": "17d247f567b2885",
   "outputs": [
    {
     "name": "stdout",
     "output_type": "stream",
     "text": [
      "Dataset already exists\n"
     ]
    }
   ],
   "execution_count": 9
  },
  {
   "metadata": {},
   "cell_type": "markdown",
   "source": [
    "We perform the oversampling with the SMOTEN technique.\n",
    "\n",
    "The SMOTEN technique is an oversampling technique of minority classes that also works with categorical variables, the imblearn library containing its implementation is used, the reference paper talks about the SMOTE technique in general.\n",
    "\n",
    "The reference link is the above: [SMOTEN](https://doi.org/10.48550/arXiv.1106.1813) "
   ],
   "id": "82a211f0b89d5413"
  },
  {
   "metadata": {
    "ExecuteTime": {
     "end_time": "2024-07-13T21:43:39.509286Z",
     "start_time": "2024-07-13T21:41:37.379804Z"
    }
   },
   "cell_type": "code",
   "source": [
    "cols = selected_df.columns.values.tolist()\n",
    "cols.remove('Family')\n",
    "y = selected_df['Family']\n",
    "X = selected_df[cols]\n",
    "resampler = SMOTEN(random_state=42)\n",
    "\n",
    "X,y = resampler.fit_resample(X,y)"
   ],
   "id": "d4430485c03d0400",
   "outputs": [],
   "execution_count": 16
  },
  {
   "metadata": {
    "ExecuteTime": {
     "end_time": "2024-07-13T21:43:39.548857Z",
     "start_time": "2024-07-13T21:43:39.531430Z"
    }
   },
   "cell_type": "code",
   "source": [
    "X['Family'] = y\n",
    "\n",
    "X['Family'].value_counts()"
   ],
   "id": "82dcfda828a61a0d",
   "outputs": [
    {
     "data": {
      "text/plain": [
       "Family\n",
       "Circoviridae        15183\n",
       "Geminiviridae       15183\n",
       "Hepadnaviridae      15183\n",
       "Orthomyxoviridae    15183\n",
       "Name: count, dtype: int64"
      ]
     },
     "execution_count": 18,
     "metadata": {},
     "output_type": "execute_result"
    }
   ],
   "execution_count": 18
  },
  {
   "metadata": {
    "ExecuteTime": {
     "end_time": "2024-07-13T21:43:46.333241Z",
     "start_time": "2024-07-13T21:43:46.325440Z"
    }
   },
   "cell_type": "code",
   "source": "X.tail()",
   "id": "30c747f99e30337a",
   "outputs": [
    {
     "data": {
      "text/plain": [
       "        Accession          Release Date                         Species  \\\n",
       "60727  KF142478.1  2013-06-08T00:00:00Z  Alphainfluenzavirus influenzae   \n",
       "60728  JN588806.1  2015-06-30T00:00:00Z   Betainfluenzavirus influenzae   \n",
       "60729  DQ997515.1  2006-10-09T00:00:00Z  Alphainfluenzavirus influenzae   \n",
       "60730  JQ791011.1  2012-06-03T00:00:00Z  Alphainfluenzavirus influenzae   \n",
       "60731  KJ162065.1  2017-03-28T00:00:00Z  Alphainfluenzavirus influenzae   \n",
       "\n",
       "                     Genus Molecule Type Length Sequence Type  \\\n",
       "60727  Alphainfluenzavirus      ssRNA(-)   2341       GenBank   \n",
       "60728   Betainfluenzavirus      ssRNA(-)   1024       GenBank   \n",
       "60729  Alphainfluenzavirus      ssRNA(-)   1565       GenBank   \n",
       "60730  Alphainfluenzavirus      ssRNA(-)   2151       GenBank   \n",
       "60731  Alphainfluenzavirus      ssRNA(-)   1540       GenBank   \n",
       "\n",
       "                     Host Collection Date  \\\n",
       "60727            Anatidae         2008-01   \n",
       "60728        Homo sapiens      2015-02-05   \n",
       "60729                 nan             nan   \n",
       "60730          Sus scrofa      2010-12-09   \n",
       "60731  Arenaria interpres      2008-11-25   \n",
       "\n",
       "                                                                                                                                                                                                                                                                                                                                                                                                                                                                                                                                                                                                                                                                                                                                                                                                                                                                                                                                                                                                                                                                                                                                                                                                                                                                                                                                                                                                                                                                                                                                                                                                                                                                                                                                                                                                                                                                                                                                                                                                                                                                                                                                                                                                                                      Sequence  \\\n",
       "60727                                                                                                                                                                                                                                                                                                                                                                                                                           AGCAAAAGCAGGGGAATTTCACAACCAGTCAAAATGGAAACAATATCACTAATAGCTATACTACTAGTAGTAACAGTAAGCAATGCAGATAAAATCTGCATCGGCTACCAATCAACAAACTCCACAGAAACTGTGGATACGCTAACAGAAAACAATGTCCCTGTGACACATGCTAAAGAATTGCTCCACACAGAGCACAATGGGATGCTGTGTGCAACAAATCTGGGACATCCTCTCATTCTAAACACCTGTACCATTGAAGGACTGATCTATGGCAACCCTTCTTGTGATCAGCTGTTGGGAGGAGGAAAATGGTCCTACATCGTCGAAAGACCATCGGCCGTTAATGGAATGTGTTACCCCGGGAATGTAGAAAACCTAGAGGAACTAAGATCACTCTTTAGTTCTGCTAGTTCCTACCAAAAAATTCAGATCTTTCCAGACACGATCTGGAATGTGTCTTACAGTGGAACAAGCAAAGCATGTTCAGATTCATTCTACAGGAGCATGAGATGGCTGACTCAAAAGAACAACGCTTACCCTATTCAAGACGCCCAATACACAAATAATAGAGGAAAGAGCATTCTTTTCATGTGGGGCATAAATCACCCACCCACCGATACTGCACAGACAAATTTGTACACAAGGACCGACACAACAACAAGTGTGACAACAGAAGATATAAATAGAACCTTCAAACCAATGATAGGGCCAAGGCCCCTTGTCAATGGTCAGCAGGGGAGAATTGATTATTATTGGTCGGTATTAAAACCAGGTCAGACATTGCGAATAAGATCCAATGGGAATCTAATTGCTCCATGGTATGGACACATTCTTTCAGGAGAGAGCCACGGAAGAATCCTGAAGACTGATTTAAACAGTGGTAACTGTGTAGTGCAATGTCAGACTGAAAGAGGTGGCTTAAACACCACATTGCCGTTCCACAATGTCAGTAAATATGCATTTGGAAACTGCCCAAAGTATGTTGGAGTAAAGAGTCTCAAACTGGCAGTTGGTCTAAGAAATGTGCCTGCTAGATCAAGTAGAGGACTATTTGGGGCTATAGCTGGTTTCATAGAGGGAGGTTGGTCAGGGTTAGTCGCTGGTTGGTATGGGTTCCAGCATTCAAATGATCAAGGGGTAGGTATGGCTGCAGATAGAGAATCAACTCAAAGGGCAATTGACAAAATAACATCCAAAGTGAATAATATAGTCGATAAAATGAACAAGCAGTATGAAATTATTGATCATGAATTCAGCGAGGTTGAAACTAGACTCAATATGATCAATAATAAGATTGATGATCAAATACAAGACATATGGGCTTATAACGCAGAATTGCTAGTGCTGCTTGAAAATCAGAAAACACTCGATGAACATGATGCAAATGTAAACAATCTATATAACAAAGTGAAGAGGGCACTGGGTTCCAATGCCATGGAAGACGGGAAAGGATGTTTTGAGCTATACCATAAATGTGATGATCAGTGCATGGAGACAATTCGGAACGGGACCTATAACAGGAGAAAGTATAAAGAGGAAGCAAAACTAGAAAGACAGAAAATAGAAGGGGTCAAGCTGGAATCTGAAGGAACTTACAAAATCCTCACCATTTATTCGACTGTCGCCTCATCTCTTGTGATTGCAATGGGGTTTGCTGCCTTCTTGTTCTGGGCCATGTCCAATGGATCTTGCAGATGCAACATTTGTATATAATTGGCAAAAACACCCTTGTTTCTACT   \n",
       "60728                                                                                                                                                                                                                                                                                                                                                                                                                                                                                                                                                                                                AGCAGAAGCAGAGCATCTTCTCAAAACTGAGGCAAATAGGCCAAAAATGAACAATGCTACCTTCAACTATACAAATGTTAACCCTATTTCTCACATCAGGGGGAGTACTATTATCACTATATGTGTCAGCTTCATTATCATACTTACTATATTCGGATATATTGCTAAAATTCTCACCAACAGAAATAACTGCACCAACAATGCCATTGGATTGTGCAAACGCATCAAATGTTCATGCTGTGAACCGTTCTGCAACAAAAGGGGTGACATTTCTTCTCCCAGAACCGGAGTGGACATACCCGCGTTTATCTTGCCCGGGCTCAACCTTTCAGAAAGCACTCCTAATTAGCCCTCATAGATTCGGAGAAACCAAAGGAAACTCAGCTCCCTTGATAATAAGGGAACCTTTTATTGCTTGTGGACCAAATGAATGCAAACACTTTGCTCTAACCCATTATGCAGCCCAACCAGGGGGATACTACAATGGAACAAGAGGAGACAGAAACAAGCTGAGGCATCTAATTTCAGTCAAATTGGGCAAAATCCCAACAGTAGAAAACTCCATTTTCCACATGGCAGCATGGAGCGGGTCCGCATGCCATGATGGTAAGGAATGGACATATATCGGAGTTGATGGTCCTGACAATAATGCATTGCTCAAAATAAAATATGGAGAAGCATATACTGACACATATCATTCCTATGCAAACAACATCCTAAGAACACAAGAAAGTGCCTGCAATTGCATCGGGGGAAATTGTTATCTTATGATAACTGATGGCTCAGCTTCAGGTGTTAGTGAATGCAGATTTCTTAAGATTCGAGAGGGCCGAATAATAAAAGAAATATTTCCAACAGGAAGAGTAAAACATACTGAGGAGTGCACATGCGGATTTGCCAGCAATAAAACCATAGAATGTGCCTGTAGAGATAACAGTTACACAGCAAAAAGACCCTTTGTCAAATTAAACGTGGAAACTGATACAGCAGAAATAAGATTGATGTGCACAGATACTTATTTGGACACCCCCAGACCAGATGATGGAAGCATAACAGGCCCTTGTGAATCTAATGGGGACAAAGGGAGTGGAGGCATCAAGGGAGGATTTGTTCATCAAAGAATGGCATCCAAGATTGGGAGGTGGTACTCTCGAACGATGTCTAAAACTGAAAGAAAGGGGATGGGACTGTATGTCAAGTATGATGGAGACCCATGGACTGACAGTGATGCCCTTGCTTTTAGGGGAGTAATGGTTTCAATGAAAGAACCTGGTTGGTACTCCTTTGGCTTCGAAATAAAAGATAAGAAATGCGATGTCCCCTGTATTGGGATAGAGATGGTACATGATGGTGGAAAAGAGACTTGGCACTCAGCAGCAACAGCCATTTACTGTTTAATGGGCTCAGGACAGCTGCTGTGGGACACAGTCACAGGTGTCGACATGGCTCTATAATGGAGGAATGGTTGAGTCTGTTCTAAACCCTTTGTTCCTATTTTGTTTGAACAATTGTCCTTACTACACTTAATTGTTTCTGAAAAATGCTCTTGTTACTACAGGTCATAGTGGGTTTCCTGA   \n",
       "60729                                                                                                                                                                                                                                                                                                                                                                                                                                                                                                                                                                                                                                                                                                                                                                                   AGCAAAAGCAGGAGTTCAAAATGAATCCAAATCAGAAGATAATAACCATCGGATCAATCTGTATGGTAATTGGAATAGTTAGCTTAATGTTACAAATTGGGAACATAATCTCAATATGGGTCAGTCATTCAATTCAGACAGGGAATCAACACCAAGCTGAACCAATCAGCAATACTAATCTTCTTACTGAGAAAGCTGTGGCTTCAGTAACATTAGCAGGCAATTCATCTCTTTGCCCCATTAGCGGATGGGCTGTACACAGTAAGGACAACAGTATAAGGATCGGTTCCAAGGGGGATGTGTTTGTTATAAGAGAGCCGTTCATCTCATGCTCCCACTTGGAATGCAGAACTTTCTTTTTGACTCAGGGAGCCTTGCTGAATGACAAGCACTCCAATGGGACTGTCAAAGACAGAAGCCCTCACAGAACATTAATGAGTTGTCCTGTGGGTGAGGCTCCCTCCCCATATAACTCAAGGTTTGAGTCTGTTGCTTGGTCGGCAAGTGCTTGCCATGATGGCACCAGTTGGTTGACAATTGGAATTTCTGGCCCAGACAATGGGGCTGTGGCTGTATTGAAATACAATGGCATAATAACAGACACCATCAAGAGTTGGAGGAACAACATACTGAGAACTCAAGAGTCTGAATGTGCATGTGTAAATGGCTCTTGCTTTACTGTAATGACTGATGGACCAAGTAATGGGCAGGCATCATATAAGATCTTCAAAATGGAAAAAGGGAAAGTGGTTAAATCAGTCGAATTGGATGCTCCTAATTATCACTATGAGGAGTGCTCCTGTTATCCTGATGCCGGCGAAATCACATGTGTGTGCAGGGATAATTGGCATGGCTCAAATCGGCCATGGGTATCTTTCAATCAAAATTTGGAGTATCAAATAGGATATATATGCAGTGGAGTTTTCGGAGACAATCCACGCCCCAATGATGGAACAGGCAGTTGTGGTCCGGTGTCCCCTAACGGGGCATATGGGGTAAAAGGGTTTTCATTTAAATACGGCAATGGTGTTTGGATCGGGAGAACCAAAAGCACTAATTCCAGGAGCGGCTTTGAAATGATTTGGGATCCAAATGGGTGGACTGGAACGGACAGTAGCTTTTCGGTGAAACAAGATATCGTAGCAATAACTGATTGGTCAGGATATAGCGGGAGTTTTGTCCAGCATCCAGAACTGACAGGATTAGATTGCATAAGACCTTGTTTCTGGGTTGAGCTAATCAGAGGGCGGCCCAAAGAGAGCACAATTTGGACTAGTGGGAGCAGCATATCTTTTTGTGGTGTAAATAGTGACACTGTGGGTTGGTCTTGGCCAGACGGTGCTGAGTTGCCATTCACCATTGACAAGTAGTTTGTTCAAAAAACTCCTTGTTTCTACT   \n",
       "60730  ATGGAAGACTTTGTGCGACAATGCTTCAATCCAATGATCGTCGAGCTTGCGGAAAAGGCAATGAAAGAATATGGGGAAGATTCGAAAATCGAAACCAACAAGTTCGCTGCAATATGCACGCACTTGGAAGTCTGTTTCATGTATTCGGATTTCCATTTCATTGACGAACAGGGTGAATCAATCATTGTAGAATCTGGTGATCCAAATGCATTGCTGAAGCACCGATTTGAGATAATTGAAGGAAGAGACAGGACTATGGCCTGGACAGTAGTGAACAGTATCTGCAACACCACAGGGGTAGAGAAGCCTAAATTTCTTCCGGATTTATACGACTACAAAGAAAATCGATTCGTTGAAATTGGAGTGACACGAAGGGAGGTCCACATATACTACCTAGAGAAAGCCAACAAAATAAAATCCGAGAAGACACACATTCATATTTTTTCATTCACTGGAGAGGAGATGGCCACCAAAGCGGACTACACCCTTGATGAAGAGAGCAGGGCAAGAATCAAAACCAGGCTCTTCACCATAAGACAAGAGATGGCCAGTAGGGGTCTATGGGATTCCTTTCGTCAGTCCGAGAGAGGCGAAGAGACAATTGAAGAAAGATTTGAAATTACAGGAACCATGCGCAGGCTTGCCGACCAAAGTCTCCCACCGAACTTCTCCAGCCTTGAAAACTTTAGAGCCTATGTAGATGGATTCGAACCAAACGGCTGCATTGAGGGCAAGCTTTCTCAAATGTCAAAAGAAGTGAGTGCCCAAATTGAACCATTCTTGAAGACAACACCACGCCCTCTCAGATTGCCTGATGGGCCCCCTTGCTCTCAGCGGTCAAAGTTCTTGCTGATGGATGCTCTGAAACTAAGTATTGAAGACCCGAGTCATGAAGGGGAAGGAATACCACTATATGATGCAATCAAGTGCATGAAGACATTTTTTGGCTGGAAAGAGCCTAACATAATCAAACCTCATGAGAAAGGCATAAACCCCAATTATCTACTGGCTTGGAAGCAAGTGCTAGCAGAGCTCCAGGACATTGAAAATGAAGAGAAGATCCCAAAGACAAAGAACATGAAGAGAACAAGCCAATTGAAGTGGGCACTTGGTGAGAATATGGCACCAGAGAAAGTAGATTTTGATGACTGCAAAGATGTCGGTGATCTCAAACAGTATGACAGCGATGAGCCAGAGCCTAGATCTCTAGCAAGCTGGGTCCAAAATGAGTTCAACAAGGCATGTGAATTGACCGATTCAAGCTGGATAGAACTTGATGAGATAGGAGAAGATGTTGCCCCGATTGAACACATCGCAAGCATGAGGAGGAACTATTTTACAGCAGAGGTGTCCCATTGCAGGGCTACTGAATACATAATGAAGGGAGTGTACATAAATACGGCTCTTCTTAATGCATCTTGTGCAGCCATGGATGACTTTCAGCTGATCCCAATGATAAGCAAATGTAGGACCAAAGAAGGAAGACGAAGAACAAATCTGTACGGCTTCATTATAAAAGGAAGGTCCCATCTGAGAAATGATACTGACGTGGTGAACTTTGTAAGCATGGAGTTCTCCCTCACTGACCCGAGGCTGGAGCCACACAAATGGGAAAAGTACTGTGTTCTTGAAATAGGAGACATGCTCCTGAGGACTGCAATAGGCCAAGTGTCGAGGCCCATGTTCCTATATGTGAGAACCAATGGAACCTCCAAGATCAAGATGAAATGGGGCATGGAAATGAGGCGCTGCCTTCTCCAGTCTCTTCAGCAGATTGAGAGTATGATTGAGGCTGAGTCTTCTGTCAAAGAGAAAGACATGACCAAGGAATTCTTTGAAAACAAATCGGAAACATGGCCAATCGGAGAATCACCCAAAGGAGTGGAGGAAGGCTCTATTGGGAAAGTGTGCAGGACCTTACTGGCAAAATCTGTATTCAACAGTCTATACGCGTCTCCACAACTTGAGGGGTTTTCGGCTGAATCGAGAAAGTTGCTCCTCATTGTTCAGGCACTTAGGGACAACTTGGAACCTGGGACCTTTGATCTTGGGGGGCTATATGAAGCAATCGAGGAGTGCCTGATTAATGATCCCTGGGTTTTGCTTAATGCATCTTGGTTCAACTCCTTCCTCACACATGCACTGAAATAG   \n",
       "60731                                                                                                                                                                                                                                                                                                                                                                                                                                                                                                                                                                                                                                     GTAGATAATCACTCACCGAGTGACATCCACATCATGGCGTCTCAAGGCACCAAACGATCTTATGAACAGATGGAAACTGGTGGAGAGCGCCAGAATGCCACTGAAATCAGAGCATCTGTTGGGAGAATGATTGGTGGAATCGGGAGATTCTACATACAGATGTGCACTGAACTCAAACTCAGTGACTACGAAGGGAGACTGATCCAAAACAGCATAACCATAGAGAGAATGGTTCTCTCTGCATTTGATGAGAGAAGAAACAAATACCTGGAGGAGCATCCCAGTGCTGGGAAAGACCCCAAGAAGACTGGAGGTCCAATCTACAGGAGGAGAGATGGGAAATGGATGAGAGAATTGATCCTATATGACAAAGAAGAGATCAGAAGAATTTGGCGTCAAGCGAATAATGGAGAAGACGCAACCGCTGGTCTCACCCACTTGATGATTTGGCATTCCAATCTGAACGACGCTACATACCAGAGAACAAGGGCACTTGTGCGTACTGGGATGGATCCCAGGATGTGTTCTCTGATGCAAGGCTCAACTCTTCCGAGGAGATCTGGGGCTGCTGGAGCAGCAGTGAAAGGGGTTGGGACAATGGTGATGGAATTGATCCGAATGATCAAACGAGGGATCAATGATCGGAATTTCTGGAGGGGCGAAAATGGAAGGAGGACGAGAATTGCTTACGAAAGAATGTGCAACATCCTCAAGGGGAAATTCCAAACAGCAGCACAACGAGGAATGATGGACCAAGTGAGAGAAAGCCGGAATCCTGGAAATGCTGAAATTGAAGACCTCATTTTTCTCGCACGGTCTGCTCTCATTCTGAGAGGATCAGTGGCTCATAAGTCCTGCCTGCCTGCTTGTGTGTACGGACTTGCTGTAGCCAGTGGATATGACTTTGAAAGAGAGGGATACTCCCTAGTCGGAATTGACCCTTTCCGTCTGCTCCAAAACAGTCAAGTCTTCAGTCTCATCAGACCAAACGAGAATCCAGCGCATAAAAGCCAGCTGGTATGGATGGCATGTCACTCTGCAGCCTTTGAAGACCTGAGAGTGTCAAGCTTCATCAGAGGAACAAGATTGGTTCCAAGAGGACAATTGTCCACCAGGGGAGTTCAGATTGCTTCAAATGAGAACATGGAGACAATGGATTCCAATACTCTTGAACTGAGGAGCAGATACTGGGCTATAAGGACAAGAAGCGGAGGGAACACTAACCAGCAAAGAGCATCTGCAGGGCAGATCAGCGTACAGCCCACATTCTCTGTGCAGAGAAACCTACCGTTCGAGAGAGCAACCATCATGGCAGCGTTTACAGGAAACACTGAAGGCAGAACTTCAGACATGAGAACTGAGATCATAAGGATGATGGAAAATGCCAGACCTGAAGATGTGTCTTTCCAGGGGCGGGGAGTCTTCGAGCTCTCGGACGAAAAGGCAACGAACCCGATCGTGCCTTCTTTTGACATGAGTAATGAAGGATCTTATTTCTTCGGAGACAATGCAGAGGAGTATGACAATTAAAGAAAAATAC   \n",
       "\n",
       "                 Family  \n",
       "60727  Orthomyxoviridae  \n",
       "60728  Orthomyxoviridae  \n",
       "60729  Orthomyxoviridae  \n",
       "60730  Orthomyxoviridae  \n",
       "60731  Orthomyxoviridae  "
      ],
      "text/html": [
       "<div>\n",
       "<style scoped>\n",
       "    .dataframe tbody tr th:only-of-type {\n",
       "        vertical-align: middle;\n",
       "    }\n",
       "\n",
       "    .dataframe tbody tr th {\n",
       "        vertical-align: top;\n",
       "    }\n",
       "\n",
       "    .dataframe thead th {\n",
       "        text-align: right;\n",
       "    }\n",
       "</style>\n",
       "<table border=\"1\" class=\"dataframe\">\n",
       "  <thead>\n",
       "    <tr style=\"text-align: right;\">\n",
       "      <th></th>\n",
       "      <th>Accession</th>\n",
       "      <th>Release Date</th>\n",
       "      <th>Species</th>\n",
       "      <th>Genus</th>\n",
       "      <th>Molecule Type</th>\n",
       "      <th>Length</th>\n",
       "      <th>Sequence Type</th>\n",
       "      <th>Host</th>\n",
       "      <th>Collection Date</th>\n",
       "      <th>Sequence</th>\n",
       "      <th>Family</th>\n",
       "    </tr>\n",
       "  </thead>\n",
       "  <tbody>\n",
       "    <tr>\n",
       "      <th>60727</th>\n",
       "      <td>KF142478.1</td>\n",
       "      <td>2013-06-08T00:00:00Z</td>\n",
       "      <td>Alphainfluenzavirus influenzae</td>\n",
       "      <td>Alphainfluenzavirus</td>\n",
       "      <td>ssRNA(-)</td>\n",
       "      <td>2341</td>\n",
       "      <td>GenBank</td>\n",
       "      <td>Anatidae</td>\n",
       "      <td>2008-01</td>\n",
       "      <td>AGCAAAAGCAGGGGAATTTCACAACCAGTCAAAATGGAAACAATATCACTAATAGCTATACTACTAGTAGTAACAGTAAGCAATGCAGATAAAATCTGCATCGGCTACCAATCAACAAACTCCACAGAAACTGTGGATACGCTAACAGAAAACAATGTCCCTGTGACACATGCTAAAGAATTGCTCCACACAGAGCACAATGGGATGCTGTGTGCAACAAATCTGGGACATCCTCTCATTCTAAACACCTGTACCATTGAAGGACTGATCTATGGCAACCCTTCTTGTGATCAGCTGTTGGGAGGAGGAAAATGGTCCTACATCGTCGAAAGACCATCGGCCGTTAATGGAATGTGTTACCCCGGGAATGTAGAAAACCTAGAGGAACTAAGATCACTCTTTAGTTCTGCTAGTTCCTACCAAAAAATTCAGATCTTTCCAGACACGATCTGGAATGTGTCTTACAGTGGAACAAGCAAAGCATGTTCAGATTCATTCTACAGGAGCATGAGATGGCTGACTCAAAAGAACAACGCTTACCCTATTCAAGACGCCCAATACACAAATAATAGAGGAAAGAGCATTCTTTTCATGTGGGGCATAAATCACCCACCCACCGATACTGCACAGACAAATTTGTACACAAGGACCGACACAACAACAAGTGTGACAACAGAAGATATAAATAGAACCTTCAAACCAATGATAGGGCCAAGGCCCCTTGTCAATGGTCAGCAGGGGAGAATTGATTATTATTGGTCGGTATTAAAACCAGGTCAGACATTGCGAATAAGATCCAATGGGAATCTAATTGCTCCATGGTATGGACACATTCTTTCAGGAGAGAGCCACGGAAGAATCCTGAAGACTGATTTAAACAGTGGTAACTGTGTAGTGCAATGTCAGACTGAAAGAGGTGGCTTAAACACCACATTGCCGTTCCACAATGTCAGTAAATATGCATTTGGAAACTGCCCAAAGTATGTTGGAGTAAAGAGTCTCAAACTGGCAGTTGGTCTAAGAAATGTGCCTGCTAGATCAAGTAGAGGACTATTTGGGGCTATAGCTGGTTTCATAGAGGGAGGTTGGTCAGGGTTAGTCGCTGGTTGGTATGGGTTCCAGCATTCAAATGATCAAGGGGTAGGTATGGCTGCAGATAGAGAATCAACTCAAAGGGCAATTGACAAAATAACATCCAAAGTGAATAATATAGTCGATAAAATGAACAAGCAGTATGAAATTATTGATCATGAATTCAGCGAGGTTGAAACTAGACTCAATATGATCAATAATAAGATTGATGATCAAATACAAGACATATGGGCTTATAACGCAGAATTGCTAGTGCTGCTTGAAAATCAGAAAACACTCGATGAACATGATGCAAATGTAAACAATCTATATAACAAAGTGAAGAGGGCACTGGGTTCCAATGCCATGGAAGACGGGAAAGGATGTTTTGAGCTATACCATAAATGTGATGATCAGTGCATGGAGACAATTCGGAACGGGACCTATAACAGGAGAAAGTATAAAGAGGAAGCAAAACTAGAAAGACAGAAAATAGAAGGGGTCAAGCTGGAATCTGAAGGAACTTACAAAATCCTCACCATTTATTCGACTGTCGCCTCATCTCTTGTGATTGCAATGGGGTTTGCTGCCTTCTTGTTCTGGGCCATGTCCAATGGATCTTGCAGATGCAACATTTGTATATAATTGGCAAAAACACCCTTGTTTCTACT</td>\n",
       "      <td>Orthomyxoviridae</td>\n",
       "    </tr>\n",
       "    <tr>\n",
       "      <th>60728</th>\n",
       "      <td>JN588806.1</td>\n",
       "      <td>2015-06-30T00:00:00Z</td>\n",
       "      <td>Betainfluenzavirus influenzae</td>\n",
       "      <td>Betainfluenzavirus</td>\n",
       "      <td>ssRNA(-)</td>\n",
       "      <td>1024</td>\n",
       "      <td>GenBank</td>\n",
       "      <td>Homo sapiens</td>\n",
       "      <td>2015-02-05</td>\n",
       "      <td>AGCAGAAGCAGAGCATCTTCTCAAAACTGAGGCAAATAGGCCAAAAATGAACAATGCTACCTTCAACTATACAAATGTTAACCCTATTTCTCACATCAGGGGGAGTACTATTATCACTATATGTGTCAGCTTCATTATCATACTTACTATATTCGGATATATTGCTAAAATTCTCACCAACAGAAATAACTGCACCAACAATGCCATTGGATTGTGCAAACGCATCAAATGTTCATGCTGTGAACCGTTCTGCAACAAAAGGGGTGACATTTCTTCTCCCAGAACCGGAGTGGACATACCCGCGTTTATCTTGCCCGGGCTCAACCTTTCAGAAAGCACTCCTAATTAGCCCTCATAGATTCGGAGAAACCAAAGGAAACTCAGCTCCCTTGATAATAAGGGAACCTTTTATTGCTTGTGGACCAAATGAATGCAAACACTTTGCTCTAACCCATTATGCAGCCCAACCAGGGGGATACTACAATGGAACAAGAGGAGACAGAAACAAGCTGAGGCATCTAATTTCAGTCAAATTGGGCAAAATCCCAACAGTAGAAAACTCCATTTTCCACATGGCAGCATGGAGCGGGTCCGCATGCCATGATGGTAAGGAATGGACATATATCGGAGTTGATGGTCCTGACAATAATGCATTGCTCAAAATAAAATATGGAGAAGCATATACTGACACATATCATTCCTATGCAAACAACATCCTAAGAACACAAGAAAGTGCCTGCAATTGCATCGGGGGAAATTGTTATCTTATGATAACTGATGGCTCAGCTTCAGGTGTTAGTGAATGCAGATTTCTTAAGATTCGAGAGGGCCGAATAATAAAAGAAATATTTCCAACAGGAAGAGTAAAACATACTGAGGAGTGCACATGCGGATTTGCCAGCAATAAAACCATAGAATGTGCCTGTAGAGATAACAGTTACACAGCAAAAAGACCCTTTGTCAAATTAAACGTGGAAACTGATACAGCAGAAATAAGATTGATGTGCACAGATACTTATTTGGACACCCCCAGACCAGATGATGGAAGCATAACAGGCCCTTGTGAATCTAATGGGGACAAAGGGAGTGGAGGCATCAAGGGAGGATTTGTTCATCAAAGAATGGCATCCAAGATTGGGAGGTGGTACTCTCGAACGATGTCTAAAACTGAAAGAAAGGGGATGGGACTGTATGTCAAGTATGATGGAGACCCATGGACTGACAGTGATGCCCTTGCTTTTAGGGGAGTAATGGTTTCAATGAAAGAACCTGGTTGGTACTCCTTTGGCTTCGAAATAAAAGATAAGAAATGCGATGTCCCCTGTATTGGGATAGAGATGGTACATGATGGTGGAAAAGAGACTTGGCACTCAGCAGCAACAGCCATTTACTGTTTAATGGGCTCAGGACAGCTGCTGTGGGACACAGTCACAGGTGTCGACATGGCTCTATAATGGAGGAATGGTTGAGTCTGTTCTAAACCCTTTGTTCCTATTTTGTTTGAACAATTGTCCTTACTACACTTAATTGTTTCTGAAAAATGCTCTTGTTACTACAGGTCATAGTGGGTTTCCTGA</td>\n",
       "      <td>Orthomyxoviridae</td>\n",
       "    </tr>\n",
       "    <tr>\n",
       "      <th>60729</th>\n",
       "      <td>DQ997515.1</td>\n",
       "      <td>2006-10-09T00:00:00Z</td>\n",
       "      <td>Alphainfluenzavirus influenzae</td>\n",
       "      <td>Alphainfluenzavirus</td>\n",
       "      <td>ssRNA(-)</td>\n",
       "      <td>1565</td>\n",
       "      <td>GenBank</td>\n",
       "      <td>nan</td>\n",
       "      <td>nan</td>\n",
       "      <td>AGCAAAAGCAGGAGTTCAAAATGAATCCAAATCAGAAGATAATAACCATCGGATCAATCTGTATGGTAATTGGAATAGTTAGCTTAATGTTACAAATTGGGAACATAATCTCAATATGGGTCAGTCATTCAATTCAGACAGGGAATCAACACCAAGCTGAACCAATCAGCAATACTAATCTTCTTACTGAGAAAGCTGTGGCTTCAGTAACATTAGCAGGCAATTCATCTCTTTGCCCCATTAGCGGATGGGCTGTACACAGTAAGGACAACAGTATAAGGATCGGTTCCAAGGGGGATGTGTTTGTTATAAGAGAGCCGTTCATCTCATGCTCCCACTTGGAATGCAGAACTTTCTTTTTGACTCAGGGAGCCTTGCTGAATGACAAGCACTCCAATGGGACTGTCAAAGACAGAAGCCCTCACAGAACATTAATGAGTTGTCCTGTGGGTGAGGCTCCCTCCCCATATAACTCAAGGTTTGAGTCTGTTGCTTGGTCGGCAAGTGCTTGCCATGATGGCACCAGTTGGTTGACAATTGGAATTTCTGGCCCAGACAATGGGGCTGTGGCTGTATTGAAATACAATGGCATAATAACAGACACCATCAAGAGTTGGAGGAACAACATACTGAGAACTCAAGAGTCTGAATGTGCATGTGTAAATGGCTCTTGCTTTACTGTAATGACTGATGGACCAAGTAATGGGCAGGCATCATATAAGATCTTCAAAATGGAAAAAGGGAAAGTGGTTAAATCAGTCGAATTGGATGCTCCTAATTATCACTATGAGGAGTGCTCCTGTTATCCTGATGCCGGCGAAATCACATGTGTGTGCAGGGATAATTGGCATGGCTCAAATCGGCCATGGGTATCTTTCAATCAAAATTTGGAGTATCAAATAGGATATATATGCAGTGGAGTTTTCGGAGACAATCCACGCCCCAATGATGGAACAGGCAGTTGTGGTCCGGTGTCCCCTAACGGGGCATATGGGGTAAAAGGGTTTTCATTTAAATACGGCAATGGTGTTTGGATCGGGAGAACCAAAAGCACTAATTCCAGGAGCGGCTTTGAAATGATTTGGGATCCAAATGGGTGGACTGGAACGGACAGTAGCTTTTCGGTGAAACAAGATATCGTAGCAATAACTGATTGGTCAGGATATAGCGGGAGTTTTGTCCAGCATCCAGAACTGACAGGATTAGATTGCATAAGACCTTGTTTCTGGGTTGAGCTAATCAGAGGGCGGCCCAAAGAGAGCACAATTTGGACTAGTGGGAGCAGCATATCTTTTTGTGGTGTAAATAGTGACACTGTGGGTTGGTCTTGGCCAGACGGTGCTGAGTTGCCATTCACCATTGACAAGTAGTTTGTTCAAAAAACTCCTTGTTTCTACT</td>\n",
       "      <td>Orthomyxoviridae</td>\n",
       "    </tr>\n",
       "    <tr>\n",
       "      <th>60730</th>\n",
       "      <td>JQ791011.1</td>\n",
       "      <td>2012-06-03T00:00:00Z</td>\n",
       "      <td>Alphainfluenzavirus influenzae</td>\n",
       "      <td>Alphainfluenzavirus</td>\n",
       "      <td>ssRNA(-)</td>\n",
       "      <td>2151</td>\n",
       "      <td>GenBank</td>\n",
       "      <td>Sus scrofa</td>\n",
       "      <td>2010-12-09</td>\n",
       "      <td>ATGGAAGACTTTGTGCGACAATGCTTCAATCCAATGATCGTCGAGCTTGCGGAAAAGGCAATGAAAGAATATGGGGAAGATTCGAAAATCGAAACCAACAAGTTCGCTGCAATATGCACGCACTTGGAAGTCTGTTTCATGTATTCGGATTTCCATTTCATTGACGAACAGGGTGAATCAATCATTGTAGAATCTGGTGATCCAAATGCATTGCTGAAGCACCGATTTGAGATAATTGAAGGAAGAGACAGGACTATGGCCTGGACAGTAGTGAACAGTATCTGCAACACCACAGGGGTAGAGAAGCCTAAATTTCTTCCGGATTTATACGACTACAAAGAAAATCGATTCGTTGAAATTGGAGTGACACGAAGGGAGGTCCACATATACTACCTAGAGAAAGCCAACAAAATAAAATCCGAGAAGACACACATTCATATTTTTTCATTCACTGGAGAGGAGATGGCCACCAAAGCGGACTACACCCTTGATGAAGAGAGCAGGGCAAGAATCAAAACCAGGCTCTTCACCATAAGACAAGAGATGGCCAGTAGGGGTCTATGGGATTCCTTTCGTCAGTCCGAGAGAGGCGAAGAGACAATTGAAGAAAGATTTGAAATTACAGGAACCATGCGCAGGCTTGCCGACCAAAGTCTCCCACCGAACTTCTCCAGCCTTGAAAACTTTAGAGCCTATGTAGATGGATTCGAACCAAACGGCTGCATTGAGGGCAAGCTTTCTCAAATGTCAAAAGAAGTGAGTGCCCAAATTGAACCATTCTTGAAGACAACACCACGCCCTCTCAGATTGCCTGATGGGCCCCCTTGCTCTCAGCGGTCAAAGTTCTTGCTGATGGATGCTCTGAAACTAAGTATTGAAGACCCGAGTCATGAAGGGGAAGGAATACCACTATATGATGCAATCAAGTGCATGAAGACATTTTTTGGCTGGAAAGAGCCTAACATAATCAAACCTCATGAGAAAGGCATAAACCCCAATTATCTACTGGCTTGGAAGCAAGTGCTAGCAGAGCTCCAGGACATTGAAAATGAAGAGAAGATCCCAAAGACAAAGAACATGAAGAGAACAAGCCAATTGAAGTGGGCACTTGGTGAGAATATGGCACCAGAGAAAGTAGATTTTGATGACTGCAAAGATGTCGGTGATCTCAAACAGTATGACAGCGATGAGCCAGAGCCTAGATCTCTAGCAAGCTGGGTCCAAAATGAGTTCAACAAGGCATGTGAATTGACCGATTCAAGCTGGATAGAACTTGATGAGATAGGAGAAGATGTTGCCCCGATTGAACACATCGCAAGCATGAGGAGGAACTATTTTACAGCAGAGGTGTCCCATTGCAGGGCTACTGAATACATAATGAAGGGAGTGTACATAAATACGGCTCTTCTTAATGCATCTTGTGCAGCCATGGATGACTTTCAGCTGATCCCAATGATAAGCAAATGTAGGACCAAAGAAGGAAGACGAAGAACAAATCTGTACGGCTTCATTATAAAAGGAAGGTCCCATCTGAGAAATGATACTGACGTGGTGAACTTTGTAAGCATGGAGTTCTCCCTCACTGACCCGAGGCTGGAGCCACACAAATGGGAAAAGTACTGTGTTCTTGAAATAGGAGACATGCTCCTGAGGACTGCAATAGGCCAAGTGTCGAGGCCCATGTTCCTATATGTGAGAACCAATGGAACCTCCAAGATCAAGATGAAATGGGGCATGGAAATGAGGCGCTGCCTTCTCCAGTCTCTTCAGCAGATTGAGAGTATGATTGAGGCTGAGTCTTCTGTCAAAGAGAAAGACATGACCAAGGAATTCTTTGAAAACAAATCGGAAACATGGCCAATCGGAGAATCACCCAAAGGAGTGGAGGAAGGCTCTATTGGGAAAGTGTGCAGGACCTTACTGGCAAAATCTGTATTCAACAGTCTATACGCGTCTCCACAACTTGAGGGGTTTTCGGCTGAATCGAGAAAGTTGCTCCTCATTGTTCAGGCACTTAGGGACAACTTGGAACCTGGGACCTTTGATCTTGGGGGGCTATATGAAGCAATCGAGGAGTGCCTGATTAATGATCCCTGGGTTTTGCTTAATGCATCTTGGTTCAACTCCTTCCTCACACATGCACTGAAATAG</td>\n",
       "      <td>Orthomyxoviridae</td>\n",
       "    </tr>\n",
       "    <tr>\n",
       "      <th>60731</th>\n",
       "      <td>KJ162065.1</td>\n",
       "      <td>2017-03-28T00:00:00Z</td>\n",
       "      <td>Alphainfluenzavirus influenzae</td>\n",
       "      <td>Alphainfluenzavirus</td>\n",
       "      <td>ssRNA(-)</td>\n",
       "      <td>1540</td>\n",
       "      <td>GenBank</td>\n",
       "      <td>Arenaria interpres</td>\n",
       "      <td>2008-11-25</td>\n",
       "      <td>GTAGATAATCACTCACCGAGTGACATCCACATCATGGCGTCTCAAGGCACCAAACGATCTTATGAACAGATGGAAACTGGTGGAGAGCGCCAGAATGCCACTGAAATCAGAGCATCTGTTGGGAGAATGATTGGTGGAATCGGGAGATTCTACATACAGATGTGCACTGAACTCAAACTCAGTGACTACGAAGGGAGACTGATCCAAAACAGCATAACCATAGAGAGAATGGTTCTCTCTGCATTTGATGAGAGAAGAAACAAATACCTGGAGGAGCATCCCAGTGCTGGGAAAGACCCCAAGAAGACTGGAGGTCCAATCTACAGGAGGAGAGATGGGAAATGGATGAGAGAATTGATCCTATATGACAAAGAAGAGATCAGAAGAATTTGGCGTCAAGCGAATAATGGAGAAGACGCAACCGCTGGTCTCACCCACTTGATGATTTGGCATTCCAATCTGAACGACGCTACATACCAGAGAACAAGGGCACTTGTGCGTACTGGGATGGATCCCAGGATGTGTTCTCTGATGCAAGGCTCAACTCTTCCGAGGAGATCTGGGGCTGCTGGAGCAGCAGTGAAAGGGGTTGGGACAATGGTGATGGAATTGATCCGAATGATCAAACGAGGGATCAATGATCGGAATTTCTGGAGGGGCGAAAATGGAAGGAGGACGAGAATTGCTTACGAAAGAATGTGCAACATCCTCAAGGGGAAATTCCAAACAGCAGCACAACGAGGAATGATGGACCAAGTGAGAGAAAGCCGGAATCCTGGAAATGCTGAAATTGAAGACCTCATTTTTCTCGCACGGTCTGCTCTCATTCTGAGAGGATCAGTGGCTCATAAGTCCTGCCTGCCTGCTTGTGTGTACGGACTTGCTGTAGCCAGTGGATATGACTTTGAAAGAGAGGGATACTCCCTAGTCGGAATTGACCCTTTCCGTCTGCTCCAAAACAGTCAAGTCTTCAGTCTCATCAGACCAAACGAGAATCCAGCGCATAAAAGCCAGCTGGTATGGATGGCATGTCACTCTGCAGCCTTTGAAGACCTGAGAGTGTCAAGCTTCATCAGAGGAACAAGATTGGTTCCAAGAGGACAATTGTCCACCAGGGGAGTTCAGATTGCTTCAAATGAGAACATGGAGACAATGGATTCCAATACTCTTGAACTGAGGAGCAGATACTGGGCTATAAGGACAAGAAGCGGAGGGAACACTAACCAGCAAAGAGCATCTGCAGGGCAGATCAGCGTACAGCCCACATTCTCTGTGCAGAGAAACCTACCGTTCGAGAGAGCAACCATCATGGCAGCGTTTACAGGAAACACTGAAGGCAGAACTTCAGACATGAGAACTGAGATCATAAGGATGATGGAAAATGCCAGACCTGAAGATGTGTCTTTCCAGGGGCGGGGAGTCTTCGAGCTCTCGGACGAAAAGGCAACGAACCCGATCGTGCCTTCTTTTGACATGAGTAATGAAGGATCTTATTTCTTCGGAGACAATGCAGAGGAGTATGACAATTAAAGAAAAATAC</td>\n",
       "      <td>Orthomyxoviridae</td>\n",
       "    </tr>\n",
       "  </tbody>\n",
       "</table>\n",
       "</div>"
      ]
     },
     "execution_count": 19,
     "metadata": {},
     "output_type": "execute_result"
    }
   ],
   "execution_count": 19
  },
  {
   "metadata": {
    "ExecuteTime": {
     "end_time": "2024-07-13T21:44:00.519712Z",
     "start_time": "2024-07-13T21:43:57.016860Z"
    }
   },
   "cell_type": "code",
   "source": [
    "if not os.path.exists(path_multiclass+'/BalancedDataset.jsonl'):\n",
    "    print('Saving the dataset...')\n",
    "    X.to_json(path_multiclass + '/BalancedDataset.jsonl', lines=True, orient='records')\n",
    "    print('Done!')\n",
    "else:\n",
    "    print('Dataset already exists')"
   ],
   "id": "fbfd97711be476f",
   "outputs": [
    {
     "name": "stdout",
     "output_type": "stream",
     "text": [
      "Saving the dataset...\n",
      "Done!\n"
     ]
    }
   ],
   "execution_count": 21
  }
 ],
 "metadata": {
  "kernelspec": {
   "display_name": "Python 3",
   "language": "python",
   "name": "python3"
  },
  "language_info": {
   "codemirror_mode": {
    "name": "ipython",
    "version": 2
   },
   "file_extension": ".py",
   "mimetype": "text/x-python",
   "name": "python",
   "nbconvert_exporter": "python",
   "pygments_lexer": "ipython2",
   "version": "2.7.6"
  }
 },
 "nbformat": 4,
 "nbformat_minor": 5
}
