{
 "cells": [
  {
   "metadata": {},
   "cell_type": "markdown",
   "source": [
    "# Loading of the dataset and First preprocessing step\n",
    "for this project I chose the dataset available on Hugging face ncbi-virus-complete-dna-v230722, but reducing its size, the original dataset contains over 2 million rows, but for a matter of complexity and capacity of the pc I took a portion containing 200 000 items, "
   ],
   "id": "13198ea999ae2fb4"
  },
  {
   "metadata": {},
   "cell_type": "markdown",
   "source": "To download the complete dataset, you can run the cell below which will automatically check if the dataset is in the folder, otherwise the download",
   "id": "ff81aa1ad30d5088"
  },
  {
   "metadata": {
    "ExecuteTime": {
     "end_time": "2024-05-27T09:25:04.971109Z",
     "start_time": "2024-05-27T09:25:04.963671Z"
    }
   },
   "cell_type": "code",
   "source": [
    "import json\n",
    "import glob\n",
    "\n",
    "import numpy as np\n",
    "from datasets import load_dataset\n",
    "import pandas as pd\n",
    "import os\n",
    "from imblearn.over_sampling import SMOTEN\n",
    "\n",
    "path_multiclass = 'Dataset/MulticlassDatasets'\n",
    "path_dataframe = 'Dataset/ncbi-virus-200-000-nucleotides'"
   ],
   "id": "f7543ecb4132e51e",
   "outputs": [],
   "execution_count": 37
  },
  {
   "metadata": {},
   "cell_type": "markdown",
   "source": "To reduce the dataset size we take the first 200 000 rows of the dataset",
   "id": "aa6a470e0dc2ee9d"
  },
  {
   "metadata": {},
   "cell_type": "code",
   "outputs": [
    {
     "name": "stdout",
     "output_type": "stream",
     "text": [
      "Dataset already exists\n"
     ]
    }
   ],
   "execution_count": 2,
   "source": [
    "# number of rows selected\n",
    "n = 200000\n",
    "if not glob.glob(path_dataframe+'.*'):\n",
    "    print('Downloading dataset...')\n",
    "    # load dataset from hugging face\n",
    "    dataset = load_dataset(\"LKarlo/ncbi-virus-complete-dna-v230722\")\n",
    "    # Save the dataset on parquet extention\n",
    "    dataset = dataset['train'].iloc[:n]\n",
    "    dataset.to_parquet(path_dataframe + '.parquet')\n",
    "else: \n",
    "    print('Dataset already exists')"
   ],
   "id": "3e606c890db3f2f1"
  },
  {
   "metadata": {
    "ExecuteTime": {
     "end_time": "2024-05-27T08:47:13.369662Z",
     "start_time": "2024-05-27T08:45:14.588055Z"
    }
   },
   "cell_type": "code",
   "source": [
    "if not os.path.exists(path_dataframe+'.parquet'):\n",
    "    print('Loading dataset from file jsonl...')\n",
    "    with open(path_dataframe, 'rb') as f:\n",
    "        df = None\n",
    "        for line in f:\n",
    "            jo = json.loads(line)\n",
    "            if df is None:\n",
    "                print('Parsing dataset...')\n",
    "                df = pd.DataFrame(columns=jo.keys())\n",
    "            \n",
    "            df.loc[len(df)] = jo.values()\n",
    "        # Save parquet file in local\n",
    "        df.to_parquet(path_dataframe+'.parquet', index=False)\n",
    "        print('Done!')\n",
    "else:\n",
    "    print('Loading dataset from parquet...')\n",
    "    df = pd.read_parquet(path_dataframe + '.parquet')\n",
    "    \n",
    "df.head()"
   ],
   "id": "ef51826da9821cb3",
   "outputs": [
    {
     "name": "stdout",
     "output_type": "stream",
     "text": [
      "Loading dataset from parquet...\n"
     ]
    },
    {
     "data": {
      "text/plain": [
       "     Accession          Release Date                    Species  \\\n",
       "0  NC_079174.1  2023-05-17T00:00:00Z       Erwinia phage Fifi44   \n",
       "1  NC_079175.1  2023-05-17T00:00:00Z  Escherichia phage PO103-1   \n",
       "2  NC_079176.1  2023-05-17T00:00:00Z     Escherichia phage MLP1   \n",
       "3  NC_079177.1  2023-05-17T00:00:00Z      Yersinia phage PYps3T   \n",
       "4  NC_079178.1  2023-05-17T00:00:00Z     Yersinia phage PYps23T   \n",
       "\n",
       "               Genus        Family Molecule Type Length Sequence Type  \\\n",
       "0      Loessnervirus  Chaseviridae         dsDNA  53559        RefSeq   \n",
       "1  Carltongylesvirus  Chaseviridae         dsDNA  53040        RefSeq   \n",
       "2  Carltongylesvirus  Chaseviridae         dsDNA  51940        RefSeq   \n",
       "3  Carltongylesvirus  Chaseviridae         dsDNA  52854        RefSeq   \n",
       "4  Carltongylesvirus  Chaseviridae         dsDNA  54869        RefSeq   \n",
       "\n",
       "                          Host Collection Date  \\\n",
       "0            Erwinia amylovora         2020-09   \n",
       "1             Escherichia coli             nan   \n",
       "2      Escherichia coli CFT073            2019   \n",
       "3  Yersinia pseudotuberculosis            2019   \n",
       "4  Yersinia pseudotuberculosis            2019   \n",
       "\n",
       "                                            Sequence  \n",
       "0  TGTTCCATGTGAGTTACTGAGTTCCGTAATCCTATTATAAAGGCCC...  \n",
       "1  AAAAAAAAAAAAAAAAAAAAAAAAAAAAAAAAAATAAATAAAATTA...  \n",
       "2  GCTGCTGCTGCCAGCTTAGCACAGGAAGCCACCATTGATGTGGTAA...  \n",
       "3  CGTGAATTGTGTAATGGCTACGCTATTATAATCCGTTTCATTCAAA...  \n",
       "4  CGTGAATTGTGTAATGGCTACGCTATTATAATCCGTTTCATTCAAA...  "
      ],
      "text/html": [
       "<div>\n",
       "<style scoped>\n",
       "    .dataframe tbody tr th:only-of-type {\n",
       "        vertical-align: middle;\n",
       "    }\n",
       "\n",
       "    .dataframe tbody tr th {\n",
       "        vertical-align: top;\n",
       "    }\n",
       "\n",
       "    .dataframe thead th {\n",
       "        text-align: right;\n",
       "    }\n",
       "</style>\n",
       "<table border=\"1\" class=\"dataframe\">\n",
       "  <thead>\n",
       "    <tr style=\"text-align: right;\">\n",
       "      <th></th>\n",
       "      <th>Accession</th>\n",
       "      <th>Release Date</th>\n",
       "      <th>Species</th>\n",
       "      <th>Genus</th>\n",
       "      <th>Family</th>\n",
       "      <th>Molecule Type</th>\n",
       "      <th>Length</th>\n",
       "      <th>Sequence Type</th>\n",
       "      <th>Host</th>\n",
       "      <th>Collection Date</th>\n",
       "      <th>Sequence</th>\n",
       "    </tr>\n",
       "  </thead>\n",
       "  <tbody>\n",
       "    <tr>\n",
       "      <th>0</th>\n",
       "      <td>NC_079174.1</td>\n",
       "      <td>2023-05-17T00:00:00Z</td>\n",
       "      <td>Erwinia phage Fifi44</td>\n",
       "      <td>Loessnervirus</td>\n",
       "      <td>Chaseviridae</td>\n",
       "      <td>dsDNA</td>\n",
       "      <td>53559</td>\n",
       "      <td>RefSeq</td>\n",
       "      <td>Erwinia amylovora</td>\n",
       "      <td>2020-09</td>\n",
       "      <td>TGTTCCATGTGAGTTACTGAGTTCCGTAATCCTATTATAAAGGCCC...</td>\n",
       "    </tr>\n",
       "    <tr>\n",
       "      <th>1</th>\n",
       "      <td>NC_079175.1</td>\n",
       "      <td>2023-05-17T00:00:00Z</td>\n",
       "      <td>Escherichia phage PO103-1</td>\n",
       "      <td>Carltongylesvirus</td>\n",
       "      <td>Chaseviridae</td>\n",
       "      <td>dsDNA</td>\n",
       "      <td>53040</td>\n",
       "      <td>RefSeq</td>\n",
       "      <td>Escherichia coli</td>\n",
       "      <td>nan</td>\n",
       "      <td>AAAAAAAAAAAAAAAAAAAAAAAAAAAAAAAAAATAAATAAAATTA...</td>\n",
       "    </tr>\n",
       "    <tr>\n",
       "      <th>2</th>\n",
       "      <td>NC_079176.1</td>\n",
       "      <td>2023-05-17T00:00:00Z</td>\n",
       "      <td>Escherichia phage MLP1</td>\n",
       "      <td>Carltongylesvirus</td>\n",
       "      <td>Chaseviridae</td>\n",
       "      <td>dsDNA</td>\n",
       "      <td>51940</td>\n",
       "      <td>RefSeq</td>\n",
       "      <td>Escherichia coli CFT073</td>\n",
       "      <td>2019</td>\n",
       "      <td>GCTGCTGCTGCCAGCTTAGCACAGGAAGCCACCATTGATGTGGTAA...</td>\n",
       "    </tr>\n",
       "    <tr>\n",
       "      <th>3</th>\n",
       "      <td>NC_079177.1</td>\n",
       "      <td>2023-05-17T00:00:00Z</td>\n",
       "      <td>Yersinia phage PYps3T</td>\n",
       "      <td>Carltongylesvirus</td>\n",
       "      <td>Chaseviridae</td>\n",
       "      <td>dsDNA</td>\n",
       "      <td>52854</td>\n",
       "      <td>RefSeq</td>\n",
       "      <td>Yersinia pseudotuberculosis</td>\n",
       "      <td>2019</td>\n",
       "      <td>CGTGAATTGTGTAATGGCTACGCTATTATAATCCGTTTCATTCAAA...</td>\n",
       "    </tr>\n",
       "    <tr>\n",
       "      <th>4</th>\n",
       "      <td>NC_079178.1</td>\n",
       "      <td>2023-05-17T00:00:00Z</td>\n",
       "      <td>Yersinia phage PYps23T</td>\n",
       "      <td>Carltongylesvirus</td>\n",
       "      <td>Chaseviridae</td>\n",
       "      <td>dsDNA</td>\n",
       "      <td>54869</td>\n",
       "      <td>RefSeq</td>\n",
       "      <td>Yersinia pseudotuberculosis</td>\n",
       "      <td>2019</td>\n",
       "      <td>CGTGAATTGTGTAATGGCTACGCTATTATAATCCGTTTCATTCAAA...</td>\n",
       "    </tr>\n",
       "  </tbody>\n",
       "</table>\n",
       "</div>"
      ]
     },
     "execution_count": 3,
     "metadata": {},
     "output_type": "execute_result"
    }
   ],
   "execution_count": 3
  },
  {
   "metadata": {},
   "cell_type": "markdown",
   "source": "# Multiclass classification",
   "id": "1b521c4530e0c563"
  },
  {
   "metadata": {},
   "cell_type": "markdown",
   "source": "## For the first task we analize the distribution of the feature target",
   "id": "f9c40e279f3d0257"
  },
  {
   "metadata": {
    "ExecuteTime": {
     "end_time": "2024-05-27T08:47:13.393551Z",
     "start_time": "2024-05-27T08:47:13.374067Z"
    }
   },
   "cell_type": "code",
   "source": "df['Family'].value_counts()",
   "id": "c1aeb6d84297e448",
   "outputs": [
    {
     "data": {
      "text/plain": [
       "Family\n",
       "Coronaviridae       180522\n",
       "nan                   5328\n",
       "Geminiviridae          850\n",
       "Spinareoviridae        545\n",
       "Phenuiviridae          495\n",
       "                     ...  \n",
       "Helgolandviridae         1\n",
       "Aggregaviridae           1\n",
       "Redondoviridae           1\n",
       "Myriaviridae             1\n",
       "Plasmaviridae            1\n",
       "Name: count, Length: 233, dtype: int64"
      ]
     },
     "execution_count": 4,
     "metadata": {},
     "output_type": "execute_result"
    }
   ],
   "execution_count": 4
  },
  {
   "metadata": {},
   "cell_type": "markdown",
   "source": "Let’s delete the rows that contain nan to the family",
   "id": "1eda6fd36109a700"
  },
  {
   "metadata": {
    "ExecuteTime": {
     "end_time": "2024-05-27T08:47:53.705336Z",
     "start_time": "2024-05-27T08:47:13.394424Z"
    }
   },
   "cell_type": "code",
   "source": [
    "index = df[df['Family'] == 'nan'].index\n",
    "df.drop(index, inplace=True)\n",
    "df.reset_index(drop=True, inplace=True)\n",
    "df.head()"
   ],
   "id": "2bfa3fed80dc024a",
   "outputs": [
    {
     "data": {
      "text/plain": [
       "     Accession          Release Date                    Species  \\\n",
       "0  NC_079174.1  2023-05-17T00:00:00Z       Erwinia phage Fifi44   \n",
       "1  NC_079175.1  2023-05-17T00:00:00Z  Escherichia phage PO103-1   \n",
       "2  NC_079176.1  2023-05-17T00:00:00Z     Escherichia phage MLP1   \n",
       "3  NC_079177.1  2023-05-17T00:00:00Z      Yersinia phage PYps3T   \n",
       "4  NC_079178.1  2023-05-17T00:00:00Z     Yersinia phage PYps23T   \n",
       "\n",
       "               Genus        Family Molecule Type Length Sequence Type  \\\n",
       "0      Loessnervirus  Chaseviridae         dsDNA  53559        RefSeq   \n",
       "1  Carltongylesvirus  Chaseviridae         dsDNA  53040        RefSeq   \n",
       "2  Carltongylesvirus  Chaseviridae         dsDNA  51940        RefSeq   \n",
       "3  Carltongylesvirus  Chaseviridae         dsDNA  52854        RefSeq   \n",
       "4  Carltongylesvirus  Chaseviridae         dsDNA  54869        RefSeq   \n",
       "\n",
       "                          Host Collection Date  \\\n",
       "0            Erwinia amylovora         2020-09   \n",
       "1             Escherichia coli             nan   \n",
       "2      Escherichia coli CFT073            2019   \n",
       "3  Yersinia pseudotuberculosis            2019   \n",
       "4  Yersinia pseudotuberculosis            2019   \n",
       "\n",
       "                                            Sequence  \n",
       "0  TGTTCCATGTGAGTTACTGAGTTCCGTAATCCTATTATAAAGGCCC...  \n",
       "1  AAAAAAAAAAAAAAAAAAAAAAAAAAAAAAAAAATAAATAAAATTA...  \n",
       "2  GCTGCTGCTGCCAGCTTAGCACAGGAAGCCACCATTGATGTGGTAA...  \n",
       "3  CGTGAATTGTGTAATGGCTACGCTATTATAATCCGTTTCATTCAAA...  \n",
       "4  CGTGAATTGTGTAATGGCTACGCTATTATAATCCGTTTCATTCAAA...  "
      ],
      "text/html": [
       "<div>\n",
       "<style scoped>\n",
       "    .dataframe tbody tr th:only-of-type {\n",
       "        vertical-align: middle;\n",
       "    }\n",
       "\n",
       "    .dataframe tbody tr th {\n",
       "        vertical-align: top;\n",
       "    }\n",
       "\n",
       "    .dataframe thead th {\n",
       "        text-align: right;\n",
       "    }\n",
       "</style>\n",
       "<table border=\"1\" class=\"dataframe\">\n",
       "  <thead>\n",
       "    <tr style=\"text-align: right;\">\n",
       "      <th></th>\n",
       "      <th>Accession</th>\n",
       "      <th>Release Date</th>\n",
       "      <th>Species</th>\n",
       "      <th>Genus</th>\n",
       "      <th>Family</th>\n",
       "      <th>Molecule Type</th>\n",
       "      <th>Length</th>\n",
       "      <th>Sequence Type</th>\n",
       "      <th>Host</th>\n",
       "      <th>Collection Date</th>\n",
       "      <th>Sequence</th>\n",
       "    </tr>\n",
       "  </thead>\n",
       "  <tbody>\n",
       "    <tr>\n",
       "      <th>0</th>\n",
       "      <td>NC_079174.1</td>\n",
       "      <td>2023-05-17T00:00:00Z</td>\n",
       "      <td>Erwinia phage Fifi44</td>\n",
       "      <td>Loessnervirus</td>\n",
       "      <td>Chaseviridae</td>\n",
       "      <td>dsDNA</td>\n",
       "      <td>53559</td>\n",
       "      <td>RefSeq</td>\n",
       "      <td>Erwinia amylovora</td>\n",
       "      <td>2020-09</td>\n",
       "      <td>TGTTCCATGTGAGTTACTGAGTTCCGTAATCCTATTATAAAGGCCC...</td>\n",
       "    </tr>\n",
       "    <tr>\n",
       "      <th>1</th>\n",
       "      <td>NC_079175.1</td>\n",
       "      <td>2023-05-17T00:00:00Z</td>\n",
       "      <td>Escherichia phage PO103-1</td>\n",
       "      <td>Carltongylesvirus</td>\n",
       "      <td>Chaseviridae</td>\n",
       "      <td>dsDNA</td>\n",
       "      <td>53040</td>\n",
       "      <td>RefSeq</td>\n",
       "      <td>Escherichia coli</td>\n",
       "      <td>nan</td>\n",
       "      <td>AAAAAAAAAAAAAAAAAAAAAAAAAAAAAAAAAATAAATAAAATTA...</td>\n",
       "    </tr>\n",
       "    <tr>\n",
       "      <th>2</th>\n",
       "      <td>NC_079176.1</td>\n",
       "      <td>2023-05-17T00:00:00Z</td>\n",
       "      <td>Escherichia phage MLP1</td>\n",
       "      <td>Carltongylesvirus</td>\n",
       "      <td>Chaseviridae</td>\n",
       "      <td>dsDNA</td>\n",
       "      <td>51940</td>\n",
       "      <td>RefSeq</td>\n",
       "      <td>Escherichia coli CFT073</td>\n",
       "      <td>2019</td>\n",
       "      <td>GCTGCTGCTGCCAGCTTAGCACAGGAAGCCACCATTGATGTGGTAA...</td>\n",
       "    </tr>\n",
       "    <tr>\n",
       "      <th>3</th>\n",
       "      <td>NC_079177.1</td>\n",
       "      <td>2023-05-17T00:00:00Z</td>\n",
       "      <td>Yersinia phage PYps3T</td>\n",
       "      <td>Carltongylesvirus</td>\n",
       "      <td>Chaseviridae</td>\n",
       "      <td>dsDNA</td>\n",
       "      <td>52854</td>\n",
       "      <td>RefSeq</td>\n",
       "      <td>Yersinia pseudotuberculosis</td>\n",
       "      <td>2019</td>\n",
       "      <td>CGTGAATTGTGTAATGGCTACGCTATTATAATCCGTTTCATTCAAA...</td>\n",
       "    </tr>\n",
       "    <tr>\n",
       "      <th>4</th>\n",
       "      <td>NC_079178.1</td>\n",
       "      <td>2023-05-17T00:00:00Z</td>\n",
       "      <td>Yersinia phage PYps23T</td>\n",
       "      <td>Carltongylesvirus</td>\n",
       "      <td>Chaseviridae</td>\n",
       "      <td>dsDNA</td>\n",
       "      <td>54869</td>\n",
       "      <td>RefSeq</td>\n",
       "      <td>Yersinia pseudotuberculosis</td>\n",
       "      <td>2019</td>\n",
       "      <td>CGTGAATTGTGTAATGGCTACGCTATTATAATCCGTTTCATTCAAA...</td>\n",
       "    </tr>\n",
       "  </tbody>\n",
       "</table>\n",
       "</div>"
      ]
     },
     "execution_count": 5,
     "metadata": {},
     "output_type": "execute_result"
    }
   ],
   "execution_count": 5
  },
  {
   "metadata": {
    "ExecuteTime": {
     "end_time": "2024-05-27T08:47:53.744848Z",
     "start_time": "2024-05-27T08:47:53.716501Z"
    }
   },
   "cell_type": "code",
   "source": "df['Family'].value_counts()",
   "id": "c262270f1a132e5c",
   "outputs": [
    {
     "data": {
      "text/plain": [
       "Family\n",
       "Coronaviridae       180522\n",
       "Geminiviridae          850\n",
       "Spinareoviridae        545\n",
       "Phenuiviridae          495\n",
       "Sedoreoviridae         469\n",
       "                     ...  \n",
       "Helgolandviridae         1\n",
       "Aggregaviridae           1\n",
       "Redondoviridae           1\n",
       "Myriaviridae             1\n",
       "Plasmaviridae            1\n",
       "Name: count, Length: 232, dtype: int64"
      ]
     },
     "execution_count": 6,
     "metadata": {},
     "output_type": "execute_result"
    }
   ],
   "execution_count": 6
  },
  {
   "metadata": {},
   "cell_type": "markdown",
   "source": [
    "### For the multiclass we select the 4 most frequent classes\n",
    "We select Coronaviridae, Geminiviridae, Spinareoviridae and Phenuiviridae.\n",
    "\n",
    "We save the dataset both to make an unbalanced classification and to oversample the dataset."
   ],
   "id": "d6178789a0387e93"
  },
  {
   "metadata": {
    "ExecuteTime": {
     "end_time": "2024-05-27T09:35:45.184474Z",
     "start_time": "2024-05-27T09:35:32.980320Z"
    }
   },
   "cell_type": "code",
   "source": [
    "selected_df = df.query(\n",
    "    'Family == \"Coronaviridae\" or'\n",
    "    ' Family == \"Geminiviridae\" or'\n",
    "    ' Family == \"Spinareoviridae\" or'\n",
    "    ' Family == \"Phenuiviridae\"'\n",
    ")"
   ],
   "id": "b23cec5db573e935",
   "outputs": [],
   "execution_count": 41
  },
  {
   "metadata": {
    "ExecuteTime": {
     "end_time": "2024-05-27T08:48:01.295854Z",
     "start_time": "2024-05-27T08:48:01.279792Z"
    }
   },
   "cell_type": "code",
   "source": "selected_df['Family'].value_counts()",
   "id": "41860793c7af7221",
   "outputs": [
    {
     "data": {
      "text/plain": [
       "Family\n",
       "Coronaviridae      180522\n",
       "Geminiviridae         850\n",
       "Spinareoviridae       545\n",
       "Phenuiviridae         495\n",
       "Name: count, dtype: int64"
      ]
     },
     "execution_count": 8,
     "metadata": {},
     "output_type": "execute_result"
    }
   ],
   "execution_count": 8
  },
  {
   "metadata": {},
   "cell_type": "markdown",
   "source": "We check if the dataset has already been saved and save it",
   "id": "818a5212536bedb7"
  },
  {
   "metadata": {
    "ExecuteTime": {
     "end_time": "2024-05-27T08:50:39.724912Z",
     "start_time": "2024-05-27T08:50:39.721146Z"
    }
   },
   "cell_type": "code",
   "source": [
    "if not os.path.exists(path_multiclass+'/UnbalancedDataset.parquet'):\n",
    "    print('Saving the dataset...')\n",
    "    selected_df.to_parquet(path_multiclass + '/UnbalancedDataset.parquet')\n",
    "    print('Done!')\n",
    "else:\n",
    "    print('Dataset already exists')"
   ],
   "id": "17d247f567b2885",
   "outputs": [
    {
     "name": "stdout",
     "output_type": "stream",
     "text": [
      "Dataset already exists\n"
     ]
    }
   ],
   "execution_count": 10
  },
  {
   "metadata": {},
   "cell_type": "markdown",
   "source": [
    "We perform the oversampling with the SMOTEN technique.\n",
    "\n",
    "The SMOTEN technique is an oversampling technique of minority classes that also works with categorical variables, the imblearn library containing its implementation is used, the reference paper talks about the SMOTE technique in general.\n",
    "\n",
    "The reference link is the above: [SMOTEN](https://doi.org/10.48550/arXiv.1106.1813) "
   ],
   "id": "82a211f0b89d5413"
  },
  {
   "metadata": {
    "ExecuteTime": {
     "end_time": "2024-05-27T09:27:41.117314Z",
     "start_time": "2024-05-27T09:25:09.928703Z"
    }
   },
   "cell_type": "code",
   "source": [
    "cols = selected_df.columns.values.tolist()\n",
    "cols.remove('Family')\n",
    "y = selected_df['Family']\n",
    "X = selected_df[cols] \n",
    "resampler = SMOTEN(random_state=42)\n",
    "\n",
    "X,y = resampler.fit_resample(X,y)"
   ],
   "id": "d4430485c03d0400",
   "outputs": [],
   "execution_count": 38
  },
  {
   "metadata": {
    "ExecuteTime": {
     "end_time": "2024-05-27T09:27:41.202851Z",
     "start_time": "2024-05-27T09:27:41.131336Z"
    }
   },
   "cell_type": "code",
   "source": [
    "X['Family'] = y\n",
    "\n",
    "X['Family'].value_counts()"
   ],
   "id": "82dcfda828a61a0d",
   "outputs": [
    {
     "data": {
      "text/plain": [
       "Family\n",
       "Geminiviridae      180522\n",
       "Spinareoviridae    180522\n",
       "Phenuiviridae      180522\n",
       "Coronaviridae      180522\n",
       "Name: count, dtype: int64"
      ]
     },
     "execution_count": 39,
     "metadata": {},
     "output_type": "execute_result"
    }
   ],
   "execution_count": 39
  },
  {
   "metadata": {
    "ExecuteTime": {
     "end_time": "2024-05-27T09:27:41.211104Z",
     "start_time": "2024-05-27T09:27:41.203914Z"
    }
   },
   "cell_type": "code",
   "source": [
    "if not os.path.exists(path_multiclass+'/BalancedDataset.parquet'):\n",
    "    print('Saving the dataset...')\n",
    "    X.to_parquet(path_multiclass + '/BalancedDataset.parquet')\n",
    "    print('Done!')\n",
    "else:\n",
    "    print('Dataset already exists')"
   ],
   "id": "fbfd97711be476f",
   "outputs": [
    {
     "name": "stdout",
     "output_type": "stream",
     "text": [
      "Dataset already exists\n"
     ]
    }
   ],
   "execution_count": 40
  },
  {
   "metadata": {},
   "cell_type": "code",
   "outputs": [],
   "execution_count": null,
   "source": "",
   "id": "8a7887b00898d311"
  }
 ],
 "metadata": {
  "kernelspec": {
   "display_name": "Python 3",
   "language": "python",
   "name": "python3"
  },
  "language_info": {
   "codemirror_mode": {
    "name": "ipython",
    "version": 2
   },
   "file_extension": ".py",
   "mimetype": "text/x-python",
   "name": "python",
   "nbconvert_exporter": "python",
   "pygments_lexer": "ipython2",
   "version": "2.7.6"
  }
 },
 "nbformat": 4,
 "nbformat_minor": 5
}
