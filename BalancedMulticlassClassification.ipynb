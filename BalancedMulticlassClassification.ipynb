{
 "cells": [
  {
   "cell_type": "markdown",
   "id": "f08986152f6000c7",
   "metadata": {
    "id": "f08986152f6000c7"
   },
   "source": [
    "# Multiclass classification\n",
    "In this notebook we will make a balance multiclass classification, the starting paper is as follows: [A Deep Learning Approach for Viral DNA Sequence Classification using Genetic Algorithm](https://www.researchgate.net/publication/363276607_A_Deep_Learning_Approach_for_Viral_DNA_Sequence_Classification_using_Genetic_Algorithm)\n",
    "\n",
    "We will propose different models for the task on a different dataset\n"
   ]
  },
  {
   "cell_type": "markdown",
   "id": "21b8a4bbbbb09dcf",
   "metadata": {
    "id": "21b8a4bbbbb09dcf"
   },
   "source": [
    "#### Definition of common import and functions\n"
   ]
  },
  {
   "cell_type": "code",
   "id": "46565d6174f7c8fb",
   "metadata": {
    "id": "46565d6174f7c8fb",
    "ExecuteTime": {
     "end_time": "2024-07-19T18:39:19.423143Z",
     "start_time": "2024-07-19T18:38:38.754998Z"
    }
   },
   "source": [
    "import json, os\n",
    "import pandas as pd\n",
    "import numpy as np\n",
    "\n",
    "import keras\n",
    "\n",
    "from keras.src.losses import SparseCategoricalCrossentropy\n",
    "from keras.src.optimizers import Adamax, LossScaleOptimizer\n",
    "\n",
    "from sklearn.metrics import classification_report, ConfusionMatrixDisplay, confusion_matrix\n",
    "from sklearn.model_selection import train_test_split\n",
    "from sklearn.preprocessing import LabelEncoder, MinMaxScaler\n",
    "\n",
    "\n",
    "from tqdm.notebook import tqdm\n",
    "import matplotlib.pyplot as plt\n",
    "\n",
    "df_path = './Dataset/MulticlassDatasets/'\n",
    "df_saved = './Saved/'\n",
    "epochs = 20\n",
    "sequence_df = None"
   ],
   "outputs": [],
   "execution_count": 1
  },
  {
   "cell_type": "markdown",
   "id": "f2aad415b98ee62e",
   "metadata": {
    "id": "f2aad415b98ee62e"
   },
   "source": [
    "## Models"
   ]
  },
  {
   "cell_type": "code",
   "id": "41416311ebdfe79a",
   "metadata": {
    "id": "41416311ebdfe79a",
    "ExecuteTime": {
     "end_time": "2024-07-19T18:39:19.432278Z",
     "start_time": "2024-07-19T18:39:19.424973Z"
    }
   },
   "source": [
    "def get_model(dim, num_classes):\n",
    "    inputs = keras.layers.Input(shape=dim)\n",
    "    x = keras.layers.Masking(mask_value=-1.0)(inputs)\n",
    "    x = keras.layers.Conv1D(filters=64, kernel_size=5, activation='relu')(x)\n",
    "    x = keras.layers.MaxPooling1D(pool_size=2)(x)\n",
    "    \n",
    "    x = keras.layers.Conv1D(filters=128, kernel_size=5, activation='relu')(x)\n",
    "    x = keras.layers.MaxPooling1D(pool_size=2)(x)\n",
    "    \n",
    "    x = keras.layers.LSTM(768)(x)\n",
    "    x = keras.layers.BatchNormalization()(x)\n",
    "    x = keras.layers.Dropout(0.2)(x)\n",
    "    \n",
    "    x = keras.layers.Dense(256, kernel_regularizer='l2')(x)\n",
    "    x = keras.layers.ReLU()(x)\n",
    "    x = keras.layers.Dropout(0.2)(x)\n",
    "    x = keras.layers.Dense(num_classes, activation='softmax')(x)\n",
    "    model = keras.models.Model(inputs=inputs, outputs=x)\n",
    "    return model\n"
   ],
   "outputs": [],
   "execution_count": 2
  },
  {
   "cell_type": "markdown",
   "id": "1974fcf0144e4da9",
   "metadata": {
    "id": "1974fcf0144e4da9"
   },
   "source": "### Balanced data set loading"
  },
  {
   "cell_type": "code",
   "id": "ec34e8823994d35d",
   "metadata": {
    "ExecuteTime": {
     "end_time": "2024-07-19T18:48:53.699630Z",
     "start_time": "2024-07-19T18:39:19.433281Z"
    }
   },
   "source": [
    "df = None\n",
    "with open(df_path+'BalancedDataset.jsonl') as f:\n",
    "  for index, line in tqdm(enumerate(f)):\n",
    "      data = json.loads(line)\n",
    "      if df is None:\n",
    "          df = pd.DataFrame(data=data, index=[0])\n",
    "      else:\n",
    "          df.loc[len(df)] = data\n",
    "df.head()"
   ],
   "outputs": [
    {
     "data": {
      "text/plain": [
       "0it [00:00, ?it/s]"
      ],
      "application/vnd.jupyter.widget-view+json": {
       "version_major": 2,
       "version_minor": 0,
       "model_id": "c11a391568f54778a83ef59b29358ab3"
      }
     },
     "metadata": {},
     "output_type": "display_data"
    },
    {
     "data": {
      "text/plain": [
       "    Accession          Release Date              Species       Genus  \\\n",
       "0  OQ599922.1  2023-06-20T00:00:00Z  Banfec circovirus 1  Circovirus   \n",
       "1  OQ599923.1  2023-06-20T00:00:00Z  Banfec circovirus 1  Circovirus   \n",
       "2  OQ599924.1  2023-06-20T00:00:00Z  Banfec circovirus 2  Circovirus   \n",
       "3  OQ241209.1  2023-06-19T00:00:00Z  Circovirus porcine2  Circovirus   \n",
       "4  OQ241210.1  2023-06-19T00:00:00Z  Circovirus porcine2  Circovirus   \n",
       "\n",
       "  Molecule Type Length Sequence Type           Host Collection Date  \\\n",
       "0    ssDNA(+/-)   1680       GenBank  Canis latrans      2021-04-24   \n",
       "1    ssDNA(+/-)   1680       GenBank  Canis latrans      2021-04-23   \n",
       "2    ssDNA(+/-)   2079       GenBank  Canis latrans      2021-04-23   \n",
       "3    ssDNA(+/-)   1768       GenBank     Sus scrofa            2021   \n",
       "4    ssDNA(+/-)   1767       GenBank     Sus scrofa            2021   \n",
       "\n",
       "                                            Sequence        Family  \n",
       "0  TATTACCGGAGACTTTGGAACCGTGGAACAGGCCGATCTGTAATGA...  Circoviridae  \n",
       "1  TATTACCGGAGACTTTGGAACCGTGGAACAGGCCGATCTGTAATGA...  Circoviridae  \n",
       "2  TAGTATTACCCGGCACCTTGACACAGACACTTCGACACACTGCTGC...  Circoviridae  \n",
       "3  ACCAGCGCACTTCGGCAGCGGCAGCACCTCGGCAGCACCTCGGCAG...  Circoviridae  \n",
       "4  ACCAGCGCACTTCGGCAGCGGCAGCACCTCGGCAGCACCTCAGCAG...  Circoviridae  "
      ],
      "text/html": [
       "<div>\n",
       "<style scoped>\n",
       "    .dataframe tbody tr th:only-of-type {\n",
       "        vertical-align: middle;\n",
       "    }\n",
       "\n",
       "    .dataframe tbody tr th {\n",
       "        vertical-align: top;\n",
       "    }\n",
       "\n",
       "    .dataframe thead th {\n",
       "        text-align: right;\n",
       "    }\n",
       "</style>\n",
       "<table border=\"1\" class=\"dataframe\">\n",
       "  <thead>\n",
       "    <tr style=\"text-align: right;\">\n",
       "      <th></th>\n",
       "      <th>Accession</th>\n",
       "      <th>Release Date</th>\n",
       "      <th>Species</th>\n",
       "      <th>Genus</th>\n",
       "      <th>Molecule Type</th>\n",
       "      <th>Length</th>\n",
       "      <th>Sequence Type</th>\n",
       "      <th>Host</th>\n",
       "      <th>Collection Date</th>\n",
       "      <th>Sequence</th>\n",
       "      <th>Family</th>\n",
       "    </tr>\n",
       "  </thead>\n",
       "  <tbody>\n",
       "    <tr>\n",
       "      <th>0</th>\n",
       "      <td>OQ599922.1</td>\n",
       "      <td>2023-06-20T00:00:00Z</td>\n",
       "      <td>Banfec circovirus 1</td>\n",
       "      <td>Circovirus</td>\n",
       "      <td>ssDNA(+/-)</td>\n",
       "      <td>1680</td>\n",
       "      <td>GenBank</td>\n",
       "      <td>Canis latrans</td>\n",
       "      <td>2021-04-24</td>\n",
       "      <td>TATTACCGGAGACTTTGGAACCGTGGAACAGGCCGATCTGTAATGA...</td>\n",
       "      <td>Circoviridae</td>\n",
       "    </tr>\n",
       "    <tr>\n",
       "      <th>1</th>\n",
       "      <td>OQ599923.1</td>\n",
       "      <td>2023-06-20T00:00:00Z</td>\n",
       "      <td>Banfec circovirus 1</td>\n",
       "      <td>Circovirus</td>\n",
       "      <td>ssDNA(+/-)</td>\n",
       "      <td>1680</td>\n",
       "      <td>GenBank</td>\n",
       "      <td>Canis latrans</td>\n",
       "      <td>2021-04-23</td>\n",
       "      <td>TATTACCGGAGACTTTGGAACCGTGGAACAGGCCGATCTGTAATGA...</td>\n",
       "      <td>Circoviridae</td>\n",
       "    </tr>\n",
       "    <tr>\n",
       "      <th>2</th>\n",
       "      <td>OQ599924.1</td>\n",
       "      <td>2023-06-20T00:00:00Z</td>\n",
       "      <td>Banfec circovirus 2</td>\n",
       "      <td>Circovirus</td>\n",
       "      <td>ssDNA(+/-)</td>\n",
       "      <td>2079</td>\n",
       "      <td>GenBank</td>\n",
       "      <td>Canis latrans</td>\n",
       "      <td>2021-04-23</td>\n",
       "      <td>TAGTATTACCCGGCACCTTGACACAGACACTTCGACACACTGCTGC...</td>\n",
       "      <td>Circoviridae</td>\n",
       "    </tr>\n",
       "    <tr>\n",
       "      <th>3</th>\n",
       "      <td>OQ241209.1</td>\n",
       "      <td>2023-06-19T00:00:00Z</td>\n",
       "      <td>Circovirus porcine2</td>\n",
       "      <td>Circovirus</td>\n",
       "      <td>ssDNA(+/-)</td>\n",
       "      <td>1768</td>\n",
       "      <td>GenBank</td>\n",
       "      <td>Sus scrofa</td>\n",
       "      <td>2021</td>\n",
       "      <td>ACCAGCGCACTTCGGCAGCGGCAGCACCTCGGCAGCACCTCGGCAG...</td>\n",
       "      <td>Circoviridae</td>\n",
       "    </tr>\n",
       "    <tr>\n",
       "      <th>4</th>\n",
       "      <td>OQ241210.1</td>\n",
       "      <td>2023-06-19T00:00:00Z</td>\n",
       "      <td>Circovirus porcine2</td>\n",
       "      <td>Circovirus</td>\n",
       "      <td>ssDNA(+/-)</td>\n",
       "      <td>1767</td>\n",
       "      <td>GenBank</td>\n",
       "      <td>Sus scrofa</td>\n",
       "      <td>2021</td>\n",
       "      <td>ACCAGCGCACTTCGGCAGCGGCAGCACCTCGGCAGCACCTCAGCAG...</td>\n",
       "      <td>Circoviridae</td>\n",
       "    </tr>\n",
       "  </tbody>\n",
       "</table>\n",
       "</div>"
      ]
     },
     "execution_count": 3,
     "metadata": {},
     "output_type": "execute_result"
    }
   ],
   "execution_count": 3
  },
  {
   "cell_type": "code",
   "id": "2b84caad93bcd8f6",
   "metadata": {
    "ExecuteTime": {
     "end_time": "2024-07-19T18:48:53.762892Z",
     "start_time": "2024-07-19T18:48:53.700894Z"
    }
   },
   "source": [
    "df = df.sample(frac=1).reset_index(drop=True)\n",
    "df.head()"
   ],
   "outputs": [
    {
     "data": {
      "text/plain": [
       "    Accession          Release Date                             Species  \\\n",
       "0  KP313758.1  2015-06-01T00:00:00Z  Mungbean yellow mosaic India virus   \n",
       "1  KJ174938.1  2014-02-17T00:00:00Z      Alphainfluenzavirus influenzae   \n",
       "2  KJ887790.1  2014-09-24T00:00:00Z        African cassava mosaic virus   \n",
       "3  MN100029.1  2020-02-10T00:00:00Z                     Opuntia virus 1   \n",
       "4  HF968641.1  2013-10-11T00:00:00Z                   Wheat dwarf virus   \n",
       "\n",
       "                 Genus Molecule Type Length Sequence Type               Host  \\\n",
       "0          Begomovirus    ssDNA(+/-)   2746       GenBank      Vigna radiata   \n",
       "1  Alphainfluenzavirus      ssRNA(-)   1497       GenBank      Gallus gallus   \n",
       "2          Begomovirus    ssDNA(+/-)   2781       GenBank  Manihot esculenta   \n",
       "3            Opunvirus    ssDNA(+/-)   2940       GenBank          Coccoidea   \n",
       "4          Mastrevirus    ssDNA(+/-)   2740       GenBank    Hordeum vulgare   \n",
       "\n",
       "  Collection Date                                           Sequence  \\\n",
       "0      2014-03-01  ACCTGAGTGCCCCGCAACCGGTGTATTGGGGTTACTTTAACTTTTA...   \n",
       "1      2013-07-04  ATGGCGTCTCAAGGCACCAAACGATCCTATGAACAGATGGAAACTA...   \n",
       "2      2007-08-24  ACCGGTTGGCCCCGCCCCCCTTTAAACGTGGTCCCCGCGCACTACG...   \n",
       "3            2017  TAATATTACCTGATGGCCGCGCCCCTTTTGAAGTGGGCCCCAGTAC...   \n",
       "4         2012-09  ACCCTGCGTGGTGGGTCCCGAGGCGCACTCGGCTTTTCGTGAGTGC...   \n",
       "\n",
       "             Family  \n",
       "0     Geminiviridae  \n",
       "1  Orthomyxoviridae  \n",
       "2     Geminiviridae  \n",
       "3     Geminiviridae  \n",
       "4     Geminiviridae  "
      ],
      "text/html": [
       "<div>\n",
       "<style scoped>\n",
       "    .dataframe tbody tr th:only-of-type {\n",
       "        vertical-align: middle;\n",
       "    }\n",
       "\n",
       "    .dataframe tbody tr th {\n",
       "        vertical-align: top;\n",
       "    }\n",
       "\n",
       "    .dataframe thead th {\n",
       "        text-align: right;\n",
       "    }\n",
       "</style>\n",
       "<table border=\"1\" class=\"dataframe\">\n",
       "  <thead>\n",
       "    <tr style=\"text-align: right;\">\n",
       "      <th></th>\n",
       "      <th>Accession</th>\n",
       "      <th>Release Date</th>\n",
       "      <th>Species</th>\n",
       "      <th>Genus</th>\n",
       "      <th>Molecule Type</th>\n",
       "      <th>Length</th>\n",
       "      <th>Sequence Type</th>\n",
       "      <th>Host</th>\n",
       "      <th>Collection Date</th>\n",
       "      <th>Sequence</th>\n",
       "      <th>Family</th>\n",
       "    </tr>\n",
       "  </thead>\n",
       "  <tbody>\n",
       "    <tr>\n",
       "      <th>0</th>\n",
       "      <td>KP313758.1</td>\n",
       "      <td>2015-06-01T00:00:00Z</td>\n",
       "      <td>Mungbean yellow mosaic India virus</td>\n",
       "      <td>Begomovirus</td>\n",
       "      <td>ssDNA(+/-)</td>\n",
       "      <td>2746</td>\n",
       "      <td>GenBank</td>\n",
       "      <td>Vigna radiata</td>\n",
       "      <td>2014-03-01</td>\n",
       "      <td>ACCTGAGTGCCCCGCAACCGGTGTATTGGGGTTACTTTAACTTTTA...</td>\n",
       "      <td>Geminiviridae</td>\n",
       "    </tr>\n",
       "    <tr>\n",
       "      <th>1</th>\n",
       "      <td>KJ174938.1</td>\n",
       "      <td>2014-02-17T00:00:00Z</td>\n",
       "      <td>Alphainfluenzavirus influenzae</td>\n",
       "      <td>Alphainfluenzavirus</td>\n",
       "      <td>ssRNA(-)</td>\n",
       "      <td>1497</td>\n",
       "      <td>GenBank</td>\n",
       "      <td>Gallus gallus</td>\n",
       "      <td>2013-07-04</td>\n",
       "      <td>ATGGCGTCTCAAGGCACCAAACGATCCTATGAACAGATGGAAACTA...</td>\n",
       "      <td>Orthomyxoviridae</td>\n",
       "    </tr>\n",
       "    <tr>\n",
       "      <th>2</th>\n",
       "      <td>KJ887790.1</td>\n",
       "      <td>2014-09-24T00:00:00Z</td>\n",
       "      <td>African cassava mosaic virus</td>\n",
       "      <td>Begomovirus</td>\n",
       "      <td>ssDNA(+/-)</td>\n",
       "      <td>2781</td>\n",
       "      <td>GenBank</td>\n",
       "      <td>Manihot esculenta</td>\n",
       "      <td>2007-08-24</td>\n",
       "      <td>ACCGGTTGGCCCCGCCCCCCTTTAAACGTGGTCCCCGCGCACTACG...</td>\n",
       "      <td>Geminiviridae</td>\n",
       "    </tr>\n",
       "    <tr>\n",
       "      <th>3</th>\n",
       "      <td>MN100029.1</td>\n",
       "      <td>2020-02-10T00:00:00Z</td>\n",
       "      <td>Opuntia virus 1</td>\n",
       "      <td>Opunvirus</td>\n",
       "      <td>ssDNA(+/-)</td>\n",
       "      <td>2940</td>\n",
       "      <td>GenBank</td>\n",
       "      <td>Coccoidea</td>\n",
       "      <td>2017</td>\n",
       "      <td>TAATATTACCTGATGGCCGCGCCCCTTTTGAAGTGGGCCCCAGTAC...</td>\n",
       "      <td>Geminiviridae</td>\n",
       "    </tr>\n",
       "    <tr>\n",
       "      <th>4</th>\n",
       "      <td>HF968641.1</td>\n",
       "      <td>2013-10-11T00:00:00Z</td>\n",
       "      <td>Wheat dwarf virus</td>\n",
       "      <td>Mastrevirus</td>\n",
       "      <td>ssDNA(+/-)</td>\n",
       "      <td>2740</td>\n",
       "      <td>GenBank</td>\n",
       "      <td>Hordeum vulgare</td>\n",
       "      <td>2012-09</td>\n",
       "      <td>ACCCTGCGTGGTGGGTCCCGAGGCGCACTCGGCTTTTCGTGAGTGC...</td>\n",
       "      <td>Geminiviridae</td>\n",
       "    </tr>\n",
       "  </tbody>\n",
       "</table>\n",
       "</div>"
      ]
     },
     "execution_count": 4,
     "metadata": {},
     "output_type": "execute_result"
    }
   ],
   "execution_count": 4
  },
  {
   "cell_type": "code",
   "id": "5333bddee6cec784",
   "metadata": {
    "colab": {
     "base_uri": "https://localhost:8080/"
    },
    "id": "5333bddee6cec784",
    "outputId": "a41ff926-3730-4841-a92d-30bf582d1789",
    "ExecuteTime": {
     "end_time": "2024-07-19T18:48:53.771979Z",
     "start_time": "2024-07-19T18:48:53.764896Z"
    }
   },
   "source": [
    "labels = df['Family']\n",
    "X = df['Sequence']\n",
    "X"
   ],
   "outputs": [
    {
     "data": {
      "text/plain": [
       "0        ACCTGAGTGCCCCGCAACCGGTGTATTGGGGTTACTTTAACTTTTA...\n",
       "1        ATGGCGTCTCAAGGCACCAAACGATCCTATGAACAGATGGAAACTA...\n",
       "2        ACCGGTTGGCCCCGCCCCCCTTTAAACGTGGTCCCCGCGCACTACG...\n",
       "3        TAATATTACCTGATGGCCGCGCCCCTTTTGAAGTGGGCCCCAGTAC...\n",
       "4        ACCCTGCGTGGTGGGTCCCGAGGCGCACTCGGCTTTTCGTGAGTGC...\n",
       "                               ...                        \n",
       "60727    ACCAGCGCACTTCGGCAGCGGCAGCACCTCGGCAGCACCTCAGCAG...\n",
       "60728    AGCAAAAGCAGGGTAGATAATCACTCACTGAGTGACATCAACATCA...\n",
       "60729    ACCCGCCGCCTGGGGCACCGGGGCACCGCAGCCATTGGCTGCCTTG...\n",
       "60730    ATGGCGTCTCAAGGCACCAAACGATCATATGAACAAATGGAGACTG...\n",
       "60731    ACCTGAGTGCCCCGCGACCGGTGTATCGGTTTTAGAGCACGTGGGT...\n",
       "Name: Sequence, Length: 60732, dtype: object"
      ]
     },
     "execution_count": 5,
     "metadata": {},
     "output_type": "execute_result"
    }
   ],
   "execution_count": 5
  },
  {
   "cell_type": "markdown",
   "id": "9b9719f67b06b37c",
   "metadata": {
    "id": "9b9719f67b06b37c"
   },
   "source": [
    "I see the maximum length of the sequence so that I can make the dataset containing sequence and target"
   ]
  },
  {
   "cell_type": "code",
   "id": "e4b05591bfbfa206",
   "metadata": {
    "colab": {
     "base_uri": "https://localhost:8080/"
    },
    "id": "e4b05591bfbfa206",
    "outputId": "c53f073a-7c57-4b09-c247-369873d1717e",
    "ExecuteTime": {
     "end_time": "2024-07-19T18:48:53.805686Z",
     "start_time": "2024-07-19T18:48:53.772981Z"
    }
   },
   "source": [
    "max_len = []\n",
    "for el in X:\n",
    "    max_len.append(len(el))\n",
    "max_len = max(max_len)\n",
    "max_len"
   ],
   "outputs": [
    {
     "data": {
      "text/plain": [
       "3999"
      ]
     },
     "execution_count": 6,
     "metadata": {},
     "output_type": "execute_result"
    }
   ],
   "execution_count": 6
  },
  {
   "cell_type": "code",
   "id": "463a757381c648d5",
   "metadata": {
    "id": "463a757381c648d5",
    "ExecuteTime": {
     "end_time": "2024-07-19T18:48:53.811827Z",
     "start_time": "2024-07-19T18:48:53.806658Z"
    }
   },
   "source": [
    "cols =[]\n",
    "\n",
    "for col in range(max_len):\n",
    "    cols.append('nucleotide_' + str(col))\n"
   ],
   "outputs": [],
   "execution_count": 7
  },
  {
   "cell_type": "code",
   "id": "SDPHGsgieMyB",
   "metadata": {
    "id": "SDPHGsgieMyB",
    "ExecuteTime": {
     "end_time": "2024-07-19T18:48:53.817705Z",
     "start_time": "2024-07-19T18:48:53.812830Z"
    }
   },
   "source": [
    "def encoder_sequence(seq):\n",
    "  if seq == 'A':\n",
    "    return 1\n",
    "  elif seq == 'C':\n",
    "    return 2\n",
    "  elif seq == 'G':\n",
    "    return 3\n",
    "  elif seq == 'T':\n",
    "    return 4\n",
    "  else:\n",
    "    return -1\n",
    "\n",
    "def decode_sequence(seq):\n",
    "  if seq == 1:\n",
    "    return 'A'\n",
    "  elif seq == 2:\n",
    "    return 'C'\n",
    "  elif seq == 3:\n",
    "    return 'G'\n",
    "  elif seq == 4:\n",
    "    return 'T'\n",
    "  else:\n",
    "    return None"
   ],
   "outputs": [],
   "execution_count": 8
  },
  {
   "cell_type": "code",
   "id": "d831e14a53bf9b81",
   "metadata": {
    "colab": {
     "base_uri": "https://localhost:8080/",
     "height": 273
    },
    "id": "d831e14a53bf9b81",
    "outputId": "be00a251-79f9-4edb-a967-efb11404d923",
    "ExecuteTime": {
     "end_time": "2024-07-21T03:20:08.233906Z",
     "start_time": "2024-07-19T18:48:53.818709Z"
    }
   },
   "source": [
    "sequence_df = pd.DataFrame(columns = cols)\n",
    "\n",
    "for row in tqdm(X):\n",
    "    sequence = {}\n",
    "    row = list(row)\n",
    "    for index, i in enumerate(cols):\n",
    "        if index < len(row):\n",
    "            sequence[i] = encoder_sequence(row[index])\n",
    "        else:\n",
    "          sequence[i] = None\n",
    "\n",
    "    sequence_df.loc[len(sequence_df)] = sequence\n",
    "\n",
    "sequence_df.head()"
   ],
   "outputs": [
    {
     "data": {
      "text/plain": [
       "  0%|          | 0/60732 [00:00<?, ?it/s]"
      ],
      "application/vnd.jupyter.widget-view+json": {
       "version_major": 2,
       "version_minor": 0,
       "model_id": "210f29afcedc4186aaa6085e3db02826"
      }
     },
     "metadata": {},
     "output_type": "display_data"
    },
    {
     "data": {
      "text/plain": [
       "   nucleotide_0  nucleotide_1  nucleotide_2  nucleotide_3  nucleotide_4  \\\n",
       "0             1             2             2             4             3   \n",
       "1             1             4             3             3             2   \n",
       "2             1             2             2             3             3   \n",
       "3             4             1             1             4             1   \n",
       "4             1             2             2             2             4   \n",
       "\n",
       "   nucleotide_5  nucleotide_6  nucleotide_7  nucleotide_8  nucleotide_9  ...  \\\n",
       "0             1             3             4             3             2  ...   \n",
       "1             3             4             2             4             2  ...   \n",
       "2             4             4             3             3             2  ...   \n",
       "3             4             4             1             2             2  ...   \n",
       "4             3             2             3             4             3  ...   \n",
       "\n",
       "   nucleotide_3989  nucleotide_3990  nucleotide_3991  nucleotide_3992  \\\n",
       "0             None             None             None             None   \n",
       "1             None             None             None             None   \n",
       "2             None             None             None             None   \n",
       "3             None             None             None             None   \n",
       "4             None             None             None             None   \n",
       "\n",
       "   nucleotide_3993  nucleotide_3994  nucleotide_3995  nucleotide_3996  \\\n",
       "0             None             None             None             None   \n",
       "1             None             None             None             None   \n",
       "2             None             None             None             None   \n",
       "3             None             None             None             None   \n",
       "4             None             None             None             None   \n",
       "\n",
       "   nucleotide_3997  nucleotide_3998  \n",
       "0             None             None  \n",
       "1             None             None  \n",
       "2             None             None  \n",
       "3             None             None  \n",
       "4             None             None  \n",
       "\n",
       "[5 rows x 3999 columns]"
      ],
      "text/html": [
       "<div>\n",
       "<style scoped>\n",
       "    .dataframe tbody tr th:only-of-type {\n",
       "        vertical-align: middle;\n",
       "    }\n",
       "\n",
       "    .dataframe tbody tr th {\n",
       "        vertical-align: top;\n",
       "    }\n",
       "\n",
       "    .dataframe thead th {\n",
       "        text-align: right;\n",
       "    }\n",
       "</style>\n",
       "<table border=\"1\" class=\"dataframe\">\n",
       "  <thead>\n",
       "    <tr style=\"text-align: right;\">\n",
       "      <th></th>\n",
       "      <th>nucleotide_0</th>\n",
       "      <th>nucleotide_1</th>\n",
       "      <th>nucleotide_2</th>\n",
       "      <th>nucleotide_3</th>\n",
       "      <th>nucleotide_4</th>\n",
       "      <th>nucleotide_5</th>\n",
       "      <th>nucleotide_6</th>\n",
       "      <th>nucleotide_7</th>\n",
       "      <th>nucleotide_8</th>\n",
       "      <th>nucleotide_9</th>\n",
       "      <th>...</th>\n",
       "      <th>nucleotide_3989</th>\n",
       "      <th>nucleotide_3990</th>\n",
       "      <th>nucleotide_3991</th>\n",
       "      <th>nucleotide_3992</th>\n",
       "      <th>nucleotide_3993</th>\n",
       "      <th>nucleotide_3994</th>\n",
       "      <th>nucleotide_3995</th>\n",
       "      <th>nucleotide_3996</th>\n",
       "      <th>nucleotide_3997</th>\n",
       "      <th>nucleotide_3998</th>\n",
       "    </tr>\n",
       "  </thead>\n",
       "  <tbody>\n",
       "    <tr>\n",
       "      <th>0</th>\n",
       "      <td>1</td>\n",
       "      <td>2</td>\n",
       "      <td>2</td>\n",
       "      <td>4</td>\n",
       "      <td>3</td>\n",
       "      <td>1</td>\n",
       "      <td>3</td>\n",
       "      <td>4</td>\n",
       "      <td>3</td>\n",
       "      <td>2</td>\n",
       "      <td>...</td>\n",
       "      <td>None</td>\n",
       "      <td>None</td>\n",
       "      <td>None</td>\n",
       "      <td>None</td>\n",
       "      <td>None</td>\n",
       "      <td>None</td>\n",
       "      <td>None</td>\n",
       "      <td>None</td>\n",
       "      <td>None</td>\n",
       "      <td>None</td>\n",
       "    </tr>\n",
       "    <tr>\n",
       "      <th>1</th>\n",
       "      <td>1</td>\n",
       "      <td>4</td>\n",
       "      <td>3</td>\n",
       "      <td>3</td>\n",
       "      <td>2</td>\n",
       "      <td>3</td>\n",
       "      <td>4</td>\n",
       "      <td>2</td>\n",
       "      <td>4</td>\n",
       "      <td>2</td>\n",
       "      <td>...</td>\n",
       "      <td>None</td>\n",
       "      <td>None</td>\n",
       "      <td>None</td>\n",
       "      <td>None</td>\n",
       "      <td>None</td>\n",
       "      <td>None</td>\n",
       "      <td>None</td>\n",
       "      <td>None</td>\n",
       "      <td>None</td>\n",
       "      <td>None</td>\n",
       "    </tr>\n",
       "    <tr>\n",
       "      <th>2</th>\n",
       "      <td>1</td>\n",
       "      <td>2</td>\n",
       "      <td>2</td>\n",
       "      <td>3</td>\n",
       "      <td>3</td>\n",
       "      <td>4</td>\n",
       "      <td>4</td>\n",
       "      <td>3</td>\n",
       "      <td>3</td>\n",
       "      <td>2</td>\n",
       "      <td>...</td>\n",
       "      <td>None</td>\n",
       "      <td>None</td>\n",
       "      <td>None</td>\n",
       "      <td>None</td>\n",
       "      <td>None</td>\n",
       "      <td>None</td>\n",
       "      <td>None</td>\n",
       "      <td>None</td>\n",
       "      <td>None</td>\n",
       "      <td>None</td>\n",
       "    </tr>\n",
       "    <tr>\n",
       "      <th>3</th>\n",
       "      <td>4</td>\n",
       "      <td>1</td>\n",
       "      <td>1</td>\n",
       "      <td>4</td>\n",
       "      <td>1</td>\n",
       "      <td>4</td>\n",
       "      <td>4</td>\n",
       "      <td>1</td>\n",
       "      <td>2</td>\n",
       "      <td>2</td>\n",
       "      <td>...</td>\n",
       "      <td>None</td>\n",
       "      <td>None</td>\n",
       "      <td>None</td>\n",
       "      <td>None</td>\n",
       "      <td>None</td>\n",
       "      <td>None</td>\n",
       "      <td>None</td>\n",
       "      <td>None</td>\n",
       "      <td>None</td>\n",
       "      <td>None</td>\n",
       "    </tr>\n",
       "    <tr>\n",
       "      <th>4</th>\n",
       "      <td>1</td>\n",
       "      <td>2</td>\n",
       "      <td>2</td>\n",
       "      <td>2</td>\n",
       "      <td>4</td>\n",
       "      <td>3</td>\n",
       "      <td>2</td>\n",
       "      <td>3</td>\n",
       "      <td>4</td>\n",
       "      <td>3</td>\n",
       "      <td>...</td>\n",
       "      <td>None</td>\n",
       "      <td>None</td>\n",
       "      <td>None</td>\n",
       "      <td>None</td>\n",
       "      <td>None</td>\n",
       "      <td>None</td>\n",
       "      <td>None</td>\n",
       "      <td>None</td>\n",
       "      <td>None</td>\n",
       "      <td>None</td>\n",
       "    </tr>\n",
       "  </tbody>\n",
       "</table>\n",
       "<p>5 rows × 3999 columns</p>\n",
       "</div>"
      ]
     },
     "execution_count": 9,
     "metadata": {},
     "output_type": "execute_result"
    }
   ],
   "execution_count": 9
  },
  {
   "cell_type": "code",
   "id": "c8d3f15600ce7e3e",
   "metadata": {
    "ExecuteTime": {
     "end_time": "2024-07-21T03:22:58.352120Z",
     "start_time": "2024-07-21T03:20:08.257513Z"
    }
   },
   "source": [
    "sequence_df['Target'] = labels\n",
    "sequence_df.head()\n",
    "sequence_df.to_json(df_path+'ProcessedBalancedDataset.jsonl', orient='records', lines=True)"
   ],
   "outputs": [
    {
     "name": "stderr",
     "output_type": "stream",
     "text": [
      "C:\\Users\\micco\\AppData\\Local\\Temp\\ipykernel_22532\\3117145268.py:1: PerformanceWarning: DataFrame is highly fragmented.  This is usually the result of calling `frame.insert` many times, which has poor performance.  Consider joining all columns at once using pd.concat(axis=1) instead. To get a de-fragmented frame, use `newframe = frame.copy()`\n",
      "  sequence_df['Target'] = labels\n"
     ]
    }
   ],
   "execution_count": 10
  },
  {
   "cell_type": "code",
   "id": "78e4d25c4f7e4c19",
   "metadata": {
    "ExecuteTime": {
     "end_time": "2024-07-21T13:03:46.558253Z",
     "start_time": "2024-07-21T13:03:22.416040Z"
    }
   },
   "source": [
    "# If all previous step are performed, skip to this cell\n",
    "if os.path.exists(df_path+'ProcessedBalancedDataset.jsonl') and sequence_df is None:\n",
    "    print('Loading data from ProcessedBalancedDataset.jsonl...')\n",
    "    sequence_df = pd.read_json(df_path+'ProcessedBalancedDataset.jsonl', orient='records', lines=True)\n",
    "else:\n",
    "    print('Dataset or dataset already created not exists, run previous step.')\n",
    "\n",
    "sequence_df = sequence_df.sample(frac=1).reset_index(drop=True)\n",
    "labels = sequence_df['Target']\n",
    "X = sequence_df.drop(['Target'], axis=1)\n",
    "X.head()"
   ],
   "outputs": [
    {
     "name": "stdout",
     "output_type": "stream",
     "text": [
      "Dataset or dataset already created not exists, run previous step.\n"
     ]
    },
    {
     "data": {
      "text/plain": [
       "   nucleotide_0  nucleotide_1  nucleotide_2  nucleotide_3  nucleotide_4  \\\n",
       "0             1             4             3             1             1   \n",
       "1             1             4             3             4             2   \n",
       "2             1             2             2             3             3   \n",
       "3             1             2             2             3             3   \n",
       "4             1             4             3             3             1   \n",
       "\n",
       "   nucleotide_5  nucleotide_6  nucleotide_7  nucleotide_8  nucleotide_9  ...  \\\n",
       "0             1             4             2             1             4  ...   \n",
       "1             4             3             1             4             2  ...   \n",
       "2             4             4             3             3             2  ...   \n",
       "3             1             4             3             3             2  ...   \n",
       "4             2             4             2             2             1  ...   \n",
       "\n",
       "   nucleotide_3989  nucleotide_3990  nucleotide_3991  nucleotide_3992  \\\n",
       "0             None             None             None             None   \n",
       "1             None             None             None             None   \n",
       "2             None             None             None             None   \n",
       "3             None             None             None             None   \n",
       "4             None             None             None             None   \n",
       "\n",
       "   nucleotide_3993  nucleotide_3994  nucleotide_3995  nucleotide_3996  \\\n",
       "0             None             None             None             None   \n",
       "1             None             None             None             None   \n",
       "2             None             None             None             None   \n",
       "3             None             None             None             None   \n",
       "4             None             None             None             None   \n",
       "\n",
       "   nucleotide_3997  nucleotide_3998  \n",
       "0             None             None  \n",
       "1             None             None  \n",
       "2             None             None  \n",
       "3             None             None  \n",
       "4             None             None  \n",
       "\n",
       "[5 rows x 3999 columns]"
      ],
      "text/html": [
       "<div>\n",
       "<style scoped>\n",
       "    .dataframe tbody tr th:only-of-type {\n",
       "        vertical-align: middle;\n",
       "    }\n",
       "\n",
       "    .dataframe tbody tr th {\n",
       "        vertical-align: top;\n",
       "    }\n",
       "\n",
       "    .dataframe thead th {\n",
       "        text-align: right;\n",
       "    }\n",
       "</style>\n",
       "<table border=\"1\" class=\"dataframe\">\n",
       "  <thead>\n",
       "    <tr style=\"text-align: right;\">\n",
       "      <th></th>\n",
       "      <th>nucleotide_0</th>\n",
       "      <th>nucleotide_1</th>\n",
       "      <th>nucleotide_2</th>\n",
       "      <th>nucleotide_3</th>\n",
       "      <th>nucleotide_4</th>\n",
       "      <th>nucleotide_5</th>\n",
       "      <th>nucleotide_6</th>\n",
       "      <th>nucleotide_7</th>\n",
       "      <th>nucleotide_8</th>\n",
       "      <th>nucleotide_9</th>\n",
       "      <th>...</th>\n",
       "      <th>nucleotide_3989</th>\n",
       "      <th>nucleotide_3990</th>\n",
       "      <th>nucleotide_3991</th>\n",
       "      <th>nucleotide_3992</th>\n",
       "      <th>nucleotide_3993</th>\n",
       "      <th>nucleotide_3994</th>\n",
       "      <th>nucleotide_3995</th>\n",
       "      <th>nucleotide_3996</th>\n",
       "      <th>nucleotide_3997</th>\n",
       "      <th>nucleotide_3998</th>\n",
       "    </tr>\n",
       "  </thead>\n",
       "  <tbody>\n",
       "    <tr>\n",
       "      <th>0</th>\n",
       "      <td>1</td>\n",
       "      <td>4</td>\n",
       "      <td>3</td>\n",
       "      <td>1</td>\n",
       "      <td>1</td>\n",
       "      <td>1</td>\n",
       "      <td>4</td>\n",
       "      <td>2</td>\n",
       "      <td>1</td>\n",
       "      <td>4</td>\n",
       "      <td>...</td>\n",
       "      <td>None</td>\n",
       "      <td>None</td>\n",
       "      <td>None</td>\n",
       "      <td>None</td>\n",
       "      <td>None</td>\n",
       "      <td>None</td>\n",
       "      <td>None</td>\n",
       "      <td>None</td>\n",
       "      <td>None</td>\n",
       "      <td>None</td>\n",
       "    </tr>\n",
       "    <tr>\n",
       "      <th>1</th>\n",
       "      <td>1</td>\n",
       "      <td>4</td>\n",
       "      <td>3</td>\n",
       "      <td>4</td>\n",
       "      <td>2</td>\n",
       "      <td>4</td>\n",
       "      <td>3</td>\n",
       "      <td>1</td>\n",
       "      <td>4</td>\n",
       "      <td>2</td>\n",
       "      <td>...</td>\n",
       "      <td>None</td>\n",
       "      <td>None</td>\n",
       "      <td>None</td>\n",
       "      <td>None</td>\n",
       "      <td>None</td>\n",
       "      <td>None</td>\n",
       "      <td>None</td>\n",
       "      <td>None</td>\n",
       "      <td>None</td>\n",
       "      <td>None</td>\n",
       "    </tr>\n",
       "    <tr>\n",
       "      <th>2</th>\n",
       "      <td>1</td>\n",
       "      <td>2</td>\n",
       "      <td>2</td>\n",
       "      <td>3</td>\n",
       "      <td>3</td>\n",
       "      <td>4</td>\n",
       "      <td>4</td>\n",
       "      <td>3</td>\n",
       "      <td>3</td>\n",
       "      <td>2</td>\n",
       "      <td>...</td>\n",
       "      <td>None</td>\n",
       "      <td>None</td>\n",
       "      <td>None</td>\n",
       "      <td>None</td>\n",
       "      <td>None</td>\n",
       "      <td>None</td>\n",
       "      <td>None</td>\n",
       "      <td>None</td>\n",
       "      <td>None</td>\n",
       "      <td>None</td>\n",
       "    </tr>\n",
       "    <tr>\n",
       "      <th>3</th>\n",
       "      <td>1</td>\n",
       "      <td>2</td>\n",
       "      <td>2</td>\n",
       "      <td>3</td>\n",
       "      <td>3</td>\n",
       "      <td>1</td>\n",
       "      <td>4</td>\n",
       "      <td>3</td>\n",
       "      <td>3</td>\n",
       "      <td>2</td>\n",
       "      <td>...</td>\n",
       "      <td>None</td>\n",
       "      <td>None</td>\n",
       "      <td>None</td>\n",
       "      <td>None</td>\n",
       "      <td>None</td>\n",
       "      <td>None</td>\n",
       "      <td>None</td>\n",
       "      <td>None</td>\n",
       "      <td>None</td>\n",
       "      <td>None</td>\n",
       "    </tr>\n",
       "    <tr>\n",
       "      <th>4</th>\n",
       "      <td>1</td>\n",
       "      <td>4</td>\n",
       "      <td>3</td>\n",
       "      <td>3</td>\n",
       "      <td>1</td>\n",
       "      <td>2</td>\n",
       "      <td>4</td>\n",
       "      <td>2</td>\n",
       "      <td>2</td>\n",
       "      <td>1</td>\n",
       "      <td>...</td>\n",
       "      <td>None</td>\n",
       "      <td>None</td>\n",
       "      <td>None</td>\n",
       "      <td>None</td>\n",
       "      <td>None</td>\n",
       "      <td>None</td>\n",
       "      <td>None</td>\n",
       "      <td>None</td>\n",
       "      <td>None</td>\n",
       "      <td>None</td>\n",
       "    </tr>\n",
       "  </tbody>\n",
       "</table>\n",
       "<p>5 rows × 3999 columns</p>\n",
       "</div>"
      ]
     },
     "execution_count": 27,
     "metadata": {},
     "output_type": "execute_result"
    }
   ],
   "execution_count": 27
  },
  {
   "cell_type": "code",
   "id": "de6ec440bba6a035",
   "metadata": {
    "ExecuteTime": {
     "end_time": "2024-07-21T13:03:46.663880Z",
     "start_time": "2024-07-21T13:03:46.587257Z"
    }
   },
   "source": [
    "labels.value_counts()"
   ],
   "outputs": [
    {
     "data": {
      "text/plain": [
       "Target\n",
       "Circoviridae        15183\n",
       "Geminiviridae       15183\n",
       "Orthomyxoviridae    15183\n",
       "Hepadnaviridae      15183\n",
       "Name: count, dtype: int64"
      ]
     },
     "execution_count": 28,
     "metadata": {},
     "output_type": "execute_result"
    }
   ],
   "execution_count": 28
  },
  {
   "cell_type": "markdown",
   "id": "5bbbc5ff787ff619",
   "metadata": {
    "id": "5bbbc5ff787ff619"
   },
   "source": "## Prepare last preprocessing steps"
  },
  {
   "cell_type": "code",
   "id": "SQHfZErBKi9d",
   "metadata": {
    "colab": {
     "base_uri": "https://localhost:8080/"
    },
    "id": "SQHfZErBKi9d",
    "outputId": "e49c994d-5462-40bd-de6e-786d41826d4f",
    "ExecuteTime": {
     "end_time": "2024-07-21T13:04:05.134033Z",
     "start_time": "2024-07-21T13:03:46.665883Z"
    }
   },
   "source": [
    "encoder_y = LabelEncoder()\n",
    "scaler = MinMaxScaler()\n",
    "X = X.to_numpy().astype(np.float32)\n",
    "y = labels.to_numpy()\n",
    "\n",
    "# fit the encoder for the label\n",
    "encoder_y.fit(y)\n",
    "# scaling the feature\n",
    "X = scaler.fit_transform(X)\n",
    "\n",
    "X.shape, y.shape"
   ],
   "outputs": [
    {
     "data": {
      "text/plain": [
       "((60732, 3999), (60732,))"
      ]
     },
     "execution_count": 29,
     "metadata": {},
     "output_type": "execute_result"
    }
   ],
   "execution_count": 29
  },
  {
   "cell_type": "code",
   "id": "Wsr_WdkHLX6Q",
   "metadata": {
    "colab": {
     "base_uri": "https://localhost:8080/"
    },
    "id": "Wsr_WdkHLX6Q",
    "outputId": "63112e92-08ed-4770-9b26-3a67cea0cb5f",
    "ExecuteTime": {
     "end_time": "2024-07-21T13:04:05.152700Z",
     "start_time": "2024-07-21T13:04:05.141079Z"
    }
   },
   "source": [
    "dimension = (X.shape[1], 1)\n",
    "dimension"
   ],
   "outputs": [
    {
     "data": {
      "text/plain": [
       "(3999, 1)"
      ]
     },
     "execution_count": 30,
     "metadata": {},
     "output_type": "execute_result"
    }
   ],
   "execution_count": 30
  },
  {
   "cell_type": "code",
   "id": "33ee9dbd87f51781",
   "metadata": {
    "colab": {
     "base_uri": "https://localhost:8080/"
    },
    "id": "33ee9dbd87f51781",
    "outputId": "11d73479-2d6a-4cf7-8726-d64bcc0b9e59",
    "ExecuteTime": {
     "end_time": "2024-07-21T13:04:05.210373Z",
     "start_time": "2024-07-21T13:04:05.154706Z"
    }
   },
   "source": [
    "n_class = len(labels.unique())\n",
    "# param for the model\n",
    "batch_size = 32\n",
    "n_class"
   ],
   "outputs": [
    {
     "data": {
      "text/plain": [
       "4"
      ]
     },
     "execution_count": 31,
     "metadata": {},
     "output_type": "execute_result"
    }
   ],
   "execution_count": 31
  },
  {
   "cell_type": "code",
   "id": "JnW6qePPjS_1",
   "metadata": {
    "colab": {
     "base_uri": "https://localhost:8080/"
    },
    "id": "JnW6qePPjS_1",
    "outputId": "c81ddabd-2c3a-4fc0-cc16-333a5d2cb886",
    "ExecuteTime": {
     "end_time": "2024-07-21T13:04:08.605671Z",
     "start_time": "2024-07-21T13:04:05.212381Z"
    }
   },
   "source": [
    "model = get_model(dimension, n_class)\n",
    "model.compile(\n",
    "    optimizer=LossScaleOptimizer(\n",
    "        Adamax(\n",
    "        learning_rate=0.002,\n",
    "        )\n",
    "    ),\n",
    "    loss=SparseCategoricalCrossentropy(), \n",
    "    metrics=['accuracy']\n",
    ")\n",
    "\n",
    "model.summary()"
   ],
   "outputs": [
    {
     "name": "stderr",
     "output_type": "stream",
     "text": [
      "D:\\Vito\\ML\\venv\\Lib\\site-packages\\keras\\src\\layers\\layer.py:915: UserWarning: Layer 'conv1d_2' (of type Conv1D) was passed an input with a mask attached to it. However, this layer does not support masking and will therefore destroy the mask information. Downstream layers will not see the mask.\n",
      "  warnings.warn(\n"
     ]
    },
    {
     "data": {
      "text/plain": [
       "\u001B[1mModel: \"functional_1\"\u001B[0m\n"
      ],
      "text/html": [
       "<pre style=\"white-space:pre;overflow-x:auto;line-height:normal;font-family:Menlo,'DejaVu Sans Mono',consolas,'Courier New',monospace\"><span style=\"font-weight: bold\">Model: \"functional_1\"</span>\n",
       "</pre>\n"
      ]
     },
     "metadata": {},
     "output_type": "display_data"
    },
    {
     "data": {
      "text/plain": [
       "┏━━━━━━━━━━━━━━━━━━━━━━━━━━━━━━━━━┳━━━━━━━━━━━━━━━━━━━━━━━━┳━━━━━━━━━━━━━━━┓\n",
       "┃\u001B[1m \u001B[0m\u001B[1mLayer (type)                   \u001B[0m\u001B[1m \u001B[0m┃\u001B[1m \u001B[0m\u001B[1mOutput Shape          \u001B[0m\u001B[1m \u001B[0m┃\u001B[1m \u001B[0m\u001B[1m      Param #\u001B[0m\u001B[1m \u001B[0m┃\n",
       "┡━━━━━━━━━━━━━━━━━━━━━━━━━━━━━━━━━╇━━━━━━━━━━━━━━━━━━━━━━━━╇━━━━━━━━━━━━━━━┩\n",
       "│ input_layer_1 (\u001B[38;5;33mInputLayer\u001B[0m)      │ (\u001B[38;5;45mNone\u001B[0m, \u001B[38;5;34m3999\u001B[0m, \u001B[38;5;34m1\u001B[0m)        │             \u001B[38;5;34m0\u001B[0m │\n",
       "├─────────────────────────────────┼────────────────────────┼───────────────┤\n",
       "│ masking_1 (\u001B[38;5;33mMasking\u001B[0m)             │ (\u001B[38;5;45mNone\u001B[0m, \u001B[38;5;34m3999\u001B[0m, \u001B[38;5;34m1\u001B[0m)        │             \u001B[38;5;34m0\u001B[0m │\n",
       "├─────────────────────────────────┼────────────────────────┼───────────────┤\n",
       "│ conv1d_2 (\u001B[38;5;33mConv1D\u001B[0m)               │ (\u001B[38;5;45mNone\u001B[0m, \u001B[38;5;34m3995\u001B[0m, \u001B[38;5;34m64\u001B[0m)       │           \u001B[38;5;34m384\u001B[0m │\n",
       "├─────────────────────────────────┼────────────────────────┼───────────────┤\n",
       "│ max_pooling1d_2 (\u001B[38;5;33mMaxPooling1D\u001B[0m)  │ (\u001B[38;5;45mNone\u001B[0m, \u001B[38;5;34m1997\u001B[0m, \u001B[38;5;34m64\u001B[0m)       │             \u001B[38;5;34m0\u001B[0m │\n",
       "├─────────────────────────────────┼────────────────────────┼───────────────┤\n",
       "│ conv1d_3 (\u001B[38;5;33mConv1D\u001B[0m)               │ (\u001B[38;5;45mNone\u001B[0m, \u001B[38;5;34m1993\u001B[0m, \u001B[38;5;34m128\u001B[0m)      │        \u001B[38;5;34m41,088\u001B[0m │\n",
       "├─────────────────────────────────┼────────────────────────┼───────────────┤\n",
       "│ max_pooling1d_3 (\u001B[38;5;33mMaxPooling1D\u001B[0m)  │ (\u001B[38;5;45mNone\u001B[0m, \u001B[38;5;34m996\u001B[0m, \u001B[38;5;34m128\u001B[0m)       │             \u001B[38;5;34m0\u001B[0m │\n",
       "├─────────────────────────────────┼────────────────────────┼───────────────┤\n",
       "│ lstm_1 (\u001B[38;5;33mLSTM\u001B[0m)                   │ (\u001B[38;5;45mNone\u001B[0m, \u001B[38;5;34m768\u001B[0m)            │     \u001B[38;5;34m2,755,584\u001B[0m │\n",
       "├─────────────────────────────────┼────────────────────────┼───────────────┤\n",
       "│ batch_normalization_1           │ (\u001B[38;5;45mNone\u001B[0m, \u001B[38;5;34m768\u001B[0m)            │         \u001B[38;5;34m3,072\u001B[0m │\n",
       "│ (\u001B[38;5;33mBatchNormalization\u001B[0m)            │                        │               │\n",
       "├─────────────────────────────────┼────────────────────────┼───────────────┤\n",
       "│ dropout_2 (\u001B[38;5;33mDropout\u001B[0m)             │ (\u001B[38;5;45mNone\u001B[0m, \u001B[38;5;34m768\u001B[0m)            │             \u001B[38;5;34m0\u001B[0m │\n",
       "├─────────────────────────────────┼────────────────────────┼───────────────┤\n",
       "│ dense_2 (\u001B[38;5;33mDense\u001B[0m)                 │ (\u001B[38;5;45mNone\u001B[0m, \u001B[38;5;34m256\u001B[0m)            │       \u001B[38;5;34m196,864\u001B[0m │\n",
       "├─────────────────────────────────┼────────────────────────┼───────────────┤\n",
       "│ re_lu_1 (\u001B[38;5;33mReLU\u001B[0m)                  │ (\u001B[38;5;45mNone\u001B[0m, \u001B[38;5;34m256\u001B[0m)            │             \u001B[38;5;34m0\u001B[0m │\n",
       "├─────────────────────────────────┼────────────────────────┼───────────────┤\n",
       "│ dropout_3 (\u001B[38;5;33mDropout\u001B[0m)             │ (\u001B[38;5;45mNone\u001B[0m, \u001B[38;5;34m256\u001B[0m)            │             \u001B[38;5;34m0\u001B[0m │\n",
       "├─────────────────────────────────┼────────────────────────┼───────────────┤\n",
       "│ dense_3 (\u001B[38;5;33mDense\u001B[0m)                 │ (\u001B[38;5;45mNone\u001B[0m, \u001B[38;5;34m4\u001B[0m)              │         \u001B[38;5;34m1,028\u001B[0m │\n",
       "└─────────────────────────────────┴────────────────────────┴───────────────┘\n"
      ],
      "text/html": [
       "<pre style=\"white-space:pre;overflow-x:auto;line-height:normal;font-family:Menlo,'DejaVu Sans Mono',consolas,'Courier New',monospace\">┏━━━━━━━━━━━━━━━━━━━━━━━━━━━━━━━━━┳━━━━━━━━━━━━━━━━━━━━━━━━┳━━━━━━━━━━━━━━━┓\n",
       "┃<span style=\"font-weight: bold\"> Layer (type)                    </span>┃<span style=\"font-weight: bold\"> Output Shape           </span>┃<span style=\"font-weight: bold\">       Param # </span>┃\n",
       "┡━━━━━━━━━━━━━━━━━━━━━━━━━━━━━━━━━╇━━━━━━━━━━━━━━━━━━━━━━━━╇━━━━━━━━━━━━━━━┩\n",
       "│ input_layer_1 (<span style=\"color: #0087ff; text-decoration-color: #0087ff\">InputLayer</span>)      │ (<span style=\"color: #00d7ff; text-decoration-color: #00d7ff\">None</span>, <span style=\"color: #00af00; text-decoration-color: #00af00\">3999</span>, <span style=\"color: #00af00; text-decoration-color: #00af00\">1</span>)        │             <span style=\"color: #00af00; text-decoration-color: #00af00\">0</span> │\n",
       "├─────────────────────────────────┼────────────────────────┼───────────────┤\n",
       "│ masking_1 (<span style=\"color: #0087ff; text-decoration-color: #0087ff\">Masking</span>)             │ (<span style=\"color: #00d7ff; text-decoration-color: #00d7ff\">None</span>, <span style=\"color: #00af00; text-decoration-color: #00af00\">3999</span>, <span style=\"color: #00af00; text-decoration-color: #00af00\">1</span>)        │             <span style=\"color: #00af00; text-decoration-color: #00af00\">0</span> │\n",
       "├─────────────────────────────────┼────────────────────────┼───────────────┤\n",
       "│ conv1d_2 (<span style=\"color: #0087ff; text-decoration-color: #0087ff\">Conv1D</span>)               │ (<span style=\"color: #00d7ff; text-decoration-color: #00d7ff\">None</span>, <span style=\"color: #00af00; text-decoration-color: #00af00\">3995</span>, <span style=\"color: #00af00; text-decoration-color: #00af00\">64</span>)       │           <span style=\"color: #00af00; text-decoration-color: #00af00\">384</span> │\n",
       "├─────────────────────────────────┼────────────────────────┼───────────────┤\n",
       "│ max_pooling1d_2 (<span style=\"color: #0087ff; text-decoration-color: #0087ff\">MaxPooling1D</span>)  │ (<span style=\"color: #00d7ff; text-decoration-color: #00d7ff\">None</span>, <span style=\"color: #00af00; text-decoration-color: #00af00\">1997</span>, <span style=\"color: #00af00; text-decoration-color: #00af00\">64</span>)       │             <span style=\"color: #00af00; text-decoration-color: #00af00\">0</span> │\n",
       "├─────────────────────────────────┼────────────────────────┼───────────────┤\n",
       "│ conv1d_3 (<span style=\"color: #0087ff; text-decoration-color: #0087ff\">Conv1D</span>)               │ (<span style=\"color: #00d7ff; text-decoration-color: #00d7ff\">None</span>, <span style=\"color: #00af00; text-decoration-color: #00af00\">1993</span>, <span style=\"color: #00af00; text-decoration-color: #00af00\">128</span>)      │        <span style=\"color: #00af00; text-decoration-color: #00af00\">41,088</span> │\n",
       "├─────────────────────────────────┼────────────────────────┼───────────────┤\n",
       "│ max_pooling1d_3 (<span style=\"color: #0087ff; text-decoration-color: #0087ff\">MaxPooling1D</span>)  │ (<span style=\"color: #00d7ff; text-decoration-color: #00d7ff\">None</span>, <span style=\"color: #00af00; text-decoration-color: #00af00\">996</span>, <span style=\"color: #00af00; text-decoration-color: #00af00\">128</span>)       │             <span style=\"color: #00af00; text-decoration-color: #00af00\">0</span> │\n",
       "├─────────────────────────────────┼────────────────────────┼───────────────┤\n",
       "│ lstm_1 (<span style=\"color: #0087ff; text-decoration-color: #0087ff\">LSTM</span>)                   │ (<span style=\"color: #00d7ff; text-decoration-color: #00d7ff\">None</span>, <span style=\"color: #00af00; text-decoration-color: #00af00\">768</span>)            │     <span style=\"color: #00af00; text-decoration-color: #00af00\">2,755,584</span> │\n",
       "├─────────────────────────────────┼────────────────────────┼───────────────┤\n",
       "│ batch_normalization_1           │ (<span style=\"color: #00d7ff; text-decoration-color: #00d7ff\">None</span>, <span style=\"color: #00af00; text-decoration-color: #00af00\">768</span>)            │         <span style=\"color: #00af00; text-decoration-color: #00af00\">3,072</span> │\n",
       "│ (<span style=\"color: #0087ff; text-decoration-color: #0087ff\">BatchNormalization</span>)            │                        │               │\n",
       "├─────────────────────────────────┼────────────────────────┼───────────────┤\n",
       "│ dropout_2 (<span style=\"color: #0087ff; text-decoration-color: #0087ff\">Dropout</span>)             │ (<span style=\"color: #00d7ff; text-decoration-color: #00d7ff\">None</span>, <span style=\"color: #00af00; text-decoration-color: #00af00\">768</span>)            │             <span style=\"color: #00af00; text-decoration-color: #00af00\">0</span> │\n",
       "├─────────────────────────────────┼────────────────────────┼───────────────┤\n",
       "│ dense_2 (<span style=\"color: #0087ff; text-decoration-color: #0087ff\">Dense</span>)                 │ (<span style=\"color: #00d7ff; text-decoration-color: #00d7ff\">None</span>, <span style=\"color: #00af00; text-decoration-color: #00af00\">256</span>)            │       <span style=\"color: #00af00; text-decoration-color: #00af00\">196,864</span> │\n",
       "├─────────────────────────────────┼────────────────────────┼───────────────┤\n",
       "│ re_lu_1 (<span style=\"color: #0087ff; text-decoration-color: #0087ff\">ReLU</span>)                  │ (<span style=\"color: #00d7ff; text-decoration-color: #00d7ff\">None</span>, <span style=\"color: #00af00; text-decoration-color: #00af00\">256</span>)            │             <span style=\"color: #00af00; text-decoration-color: #00af00\">0</span> │\n",
       "├─────────────────────────────────┼────────────────────────┼───────────────┤\n",
       "│ dropout_3 (<span style=\"color: #0087ff; text-decoration-color: #0087ff\">Dropout</span>)             │ (<span style=\"color: #00d7ff; text-decoration-color: #00d7ff\">None</span>, <span style=\"color: #00af00; text-decoration-color: #00af00\">256</span>)            │             <span style=\"color: #00af00; text-decoration-color: #00af00\">0</span> │\n",
       "├─────────────────────────────────┼────────────────────────┼───────────────┤\n",
       "│ dense_3 (<span style=\"color: #0087ff; text-decoration-color: #0087ff\">Dense</span>)                 │ (<span style=\"color: #00d7ff; text-decoration-color: #00d7ff\">None</span>, <span style=\"color: #00af00; text-decoration-color: #00af00\">4</span>)              │         <span style=\"color: #00af00; text-decoration-color: #00af00\">1,028</span> │\n",
       "└─────────────────────────────────┴────────────────────────┴───────────────┘\n",
       "</pre>\n"
      ]
     },
     "metadata": {},
     "output_type": "display_data"
    },
    {
     "data": {
      "text/plain": [
       "\u001B[1m Total params: \u001B[0m\u001B[38;5;34m2,998,020\u001B[0m (11.44 MB)\n"
      ],
      "text/html": [
       "<pre style=\"white-space:pre;overflow-x:auto;line-height:normal;font-family:Menlo,'DejaVu Sans Mono',consolas,'Courier New',monospace\"><span style=\"font-weight: bold\"> Total params: </span><span style=\"color: #00af00; text-decoration-color: #00af00\">2,998,020</span> (11.44 MB)\n",
       "</pre>\n"
      ]
     },
     "metadata": {},
     "output_type": "display_data"
    },
    {
     "data": {
      "text/plain": [
       "\u001B[1m Trainable params: \u001B[0m\u001B[38;5;34m2,996,484\u001B[0m (11.43 MB)\n"
      ],
      "text/html": [
       "<pre style=\"white-space:pre;overflow-x:auto;line-height:normal;font-family:Menlo,'DejaVu Sans Mono',consolas,'Courier New',monospace\"><span style=\"font-weight: bold\"> Trainable params: </span><span style=\"color: #00af00; text-decoration-color: #00af00\">2,996,484</span> (11.43 MB)\n",
       "</pre>\n"
      ]
     },
     "metadata": {},
     "output_type": "display_data"
    },
    {
     "data": {
      "text/plain": [
       "\u001B[1m Non-trainable params: \u001B[0m\u001B[38;5;34m1,536\u001B[0m (6.00 KB)\n"
      ],
      "text/html": [
       "<pre style=\"white-space:pre;overflow-x:auto;line-height:normal;font-family:Menlo,'DejaVu Sans Mono',consolas,'Courier New',monospace\"><span style=\"font-weight: bold\"> Non-trainable params: </span><span style=\"color: #00af00; text-decoration-color: #00af00\">1,536</span> (6.00 KB)\n",
       "</pre>\n"
      ]
     },
     "metadata": {},
     "output_type": "display_data"
    }
   ],
   "execution_count": 32
  },
  {
   "cell_type": "markdown",
   "id": "8d43ba648819f416",
   "metadata": {},
   "source": [
    "## Continual learning\n",
    "For fit the model we suse the technique of continual learning, so we split the dataset into n batch and \n",
    "we fit the model for every batch saving the most performant model."
   ]
  },
  {
   "cell_type": "code",
   "id": "3e3de252d6bab056",
   "metadata": {
    "ExecuteTime": {
     "end_time": "2024-07-21T13:04:08.624489Z",
     "start_time": "2024-07-21T13:04:08.607676Z"
    }
   },
   "source": [
    "n_batch = 10\n",
    "start = 0\n",
    "step = int(len(X)/n_batch) \n",
    "end = step\n",
    "\n",
    "all_df = []\n",
    "\n",
    "for i in range(n_batch):\n",
    "    all_df.append(\n",
    "        {\n",
    "            'X': X[start:end],\n",
    "            'y': y[start:end]\n",
    "        }\n",
    "    )\n",
    "    start += step\n",
    "    end += step\n",
    "\n",
    "step, end"
   ],
   "outputs": [
    {
     "data": {
      "text/plain": [
       "(6073, 66803)"
      ]
     },
     "execution_count": 33,
     "metadata": {},
     "output_type": "execute_result"
    }
   ],
   "execution_count": 33
  },
  {
   "cell_type": "code",
   "id": "745aaad2a7dba01d",
   "metadata": {},
   "source": [
    "best_accuracy = 0\n",
    "# best model to save\n",
    "best_model = None\n",
    "\n",
    "# metrics of the best classification for the evaluation of the best model\n",
    "best_pred = None\n",
    "gt_pred = None\n",
    "\n",
    "early_stopping = keras.callbacks.EarlyStopping(\n",
    "    monitor=\"val_loss\",\n",
    "    patience=1,\n",
    "    verbose=1,\n",
    "    mode=\"auto\",\n",
    "    start_from_epoch=0,\n",
    ")\n",
    "\n",
    "all_accuracy = []\n",
    "all_loss = []\n",
    "for df in all_df:\n",
    "    X_f, X_test, y_f, y_test = train_test_split(df['X'], df['y'], test_size=0.2, random_state=42)\n",
    "    \n",
    "    X_train, X_val, y_train, y_val = train_test_split(X_f, y_f, test_size=0.1, random_state=42)\n",
    "    \n",
    "    X_train = np.nan_to_num(X_train, nan=-1.0)\n",
    "    X_val = np.nan_to_num(X_val, nan=-1.0)\n",
    "    X_test = np.nan_to_num(X_test, nan=-1.0)\n",
    "    \n",
    "    # reshape for three-dimensional space\n",
    "    X_train = X_train.reshape(X_train.shape[0], X_train.shape[1], 1)\n",
    "    X_val = X_val.reshape(X_val.shape[0], X_val.shape[1], 1)\n",
    "    X_test = X_test.reshape(X_test.shape[0], X_test.shape[1], 1)\n",
    "\n",
    "    y_train = encoder_y.transform(y_train).astype(np.float32)\n",
    "    y_val = encoder_y.transform(y_val).astype(np.float32)\n",
    "    y_test = encoder_y.transform(y_test).astype(np.float32)\n",
    "    \n",
    "\n",
    "    # fit the model\n",
    "    history = model.fit(\n",
    "        X_train,\n",
    "        y_train,\n",
    "        epochs=epochs,\n",
    "        validation_data=(X_val, y_val),\n",
    "        batch_size=batch_size,\n",
    "        verbose=1,\n",
    "        callbacks=[early_stopping],\n",
    "    )\n",
    "\n",
    "    loss, acc = model.evaluate(X_test, y_test, verbose=1)\n",
    "    \n",
    "    all_accuracy.append(acc)\n",
    "    all_loss.append(loss)\n",
    "    # get the prediction        \n",
    "    y_pred = model.predict(X_test, verbose=0)\n",
    "    y_pred = [np.argmax(y) for y in y_pred]\n",
    "    y_pred = encoder_y.inverse_transform(y_pred)\n",
    "    \n",
    "    if acc > best_accuracy:\n",
    "        print(f'Saving best model with Accuracy of {acc*100:.2f}%...')\n",
    "        best_accuracy = acc\n",
    "        best_model = model\n",
    "        best_pred = y_pred\n",
    "        gt_pred = y_test\n",
    "    \n",
    "# plot the fit metrics\n",
    "fig, axes = plt.subplots(\n",
    "                     ncols=2,\n",
    "                     nrows=1,\n",
    ")\n",
    "\n",
    "ax1, ax2 = axes.flatten()\n",
    "# summarize history for accuracy\n",
    "ax1.plot(all_accuracy)\n",
    "ax1.legend(['test'])\n",
    "ax1.set_title('Accuracy')\n",
    "ax2.plot(all_loss)\n",
    "ax2.legend(['test'])\n",
    "ax2.set_title('Loss')\n",
    "fig.suptitle(f'Accuracy Stratified K fold')\n",
    "fig.show()"
   ],
   "outputs": [],
   "execution_count": null
  },
  {
   "metadata": {
    "ExecuteTime": {
     "end_time": "2024-07-21T14:37:31.263397Z",
     "start_time": "2024-07-21T14:37:29.983089Z"
    }
   },
   "cell_type": "code",
   "source": "best_model =keras.models.load_model(df_saved+'BestBalancedModelContinualLearningOverfitted.keras')",
   "id": "1e5549b2dffead81",
   "outputs": [
    {
     "name": "stderr",
     "output_type": "stream",
     "text": [
      "D:\\Vito\\ML\\venv\\Lib\\site-packages\\keras\\src\\layers\\layer.py:915: UserWarning: Layer 'conv1d' (of type Conv1D) was passed an input with a mask attached to it. However, this layer does not support masking and will therefore destroy the mask information. Downstream layers will not see the mask.\n",
      "  warnings.warn(\n"
     ]
    }
   ],
   "execution_count": 42
  },
  {
   "metadata": {
    "ExecuteTime": {
     "end_time": "2024-07-21T14:37:59.602224Z",
     "start_time": "2024-07-21T14:37:31.265428Z"
    }
   },
   "cell_type": "code",
   "source": [
    "sequence_df['Target'] = labels\n",
    "test = pd.concat([\n",
    "    sequence_df[sequence_df['Target'] == 'Geminiviridae'][:100],\n",
    "    sequence_df[sequence_df['Target'] == 'Hepadnaviridae'][:100],\n",
    "    sequence_df[sequence_df['Target'] == 'Orthomyxoviridae'][:100],\n",
    "    sequence_df[sequence_df['Target'] == 'Circoviridae'][:100]\n",
    "])\n",
    "\n",
    "print(test.shape)\n",
    "\n",
    "test = test.sample(frac=1).reset_index(drop=True)\n",
    "y_test = test['Target'].to_numpy()\n",
    "X = test.drop(['Target'],axis=1).to_numpy()\n",
    "X = scaler.transform(X)\n",
    "X = np.nan_to_num(X, nan=-1.0)\n",
    "X = X.reshape(X.shape[0], X.shape[1], 1)\n",
    "\n",
    "y_pred = best_model.predict(X, verbose=1)\n",
    "y_pred = [np.argmax(y) for y in y_pred]\n",
    "y_pred = encoder_y.inverse_transform(y_pred)"
   ],
   "id": "2f74849e63aba942",
   "outputs": [
    {
     "name": "stdout",
     "output_type": "stream",
     "text": [
      "(400, 4000)\n"
     ]
    },
    {
     "name": "stderr",
     "output_type": "stream",
     "text": [
      "D:\\Vito\\ML\\venv\\Lib\\site-packages\\keras\\src\\layers\\layer.py:915: UserWarning: Layer 'conv1d' (of type Conv1D) was passed an input with a mask attached to it. However, this layer does not support masking and will therefore destroy the mask information. Downstream layers will not see the mask.\n",
      "  warnings.warn(\n"
     ]
    },
    {
     "name": "stdout",
     "output_type": "stream",
     "text": [
      "\u001B[1m13/13\u001B[0m \u001B[32m━━━━━━━━━━━━━━━━━━━━\u001B[0m\u001B[37m\u001B[0m \u001B[1m22s\u001B[0m 2s/step\n"
     ]
    }
   ],
   "execution_count": 43
  },
  {
   "cell_type": "code",
   "id": "4478b5a64cc4a756",
   "metadata": {
    "ExecuteTime": {
     "end_time": "2024-07-21T14:37:59.628027Z",
     "start_time": "2024-07-21T14:37:59.603245Z"
    }
   },
   "source": "print(classification_report(y_true=y_test, y_pred=y_pred, zero_division=0))",
   "outputs": [
    {
     "name": "stdout",
     "output_type": "stream",
     "text": [
      "                  precision    recall  f1-score   support\n",
      "\n",
      "    Circoviridae       0.00      0.00      0.00       100\n",
      "   Geminiviridae       0.25      1.00      0.40       100\n",
      "  Hepadnaviridae       0.00      0.00      0.00       100\n",
      "Orthomyxoviridae       0.00      0.00      0.00       100\n",
      "\n",
      "        accuracy                           0.25       400\n",
      "       macro avg       0.06      0.25      0.10       400\n",
      "    weighted avg       0.06      0.25      0.10       400\n",
      "\n"
     ]
    }
   ],
   "execution_count": 44
  },
  {
   "cell_type": "code",
   "id": "16f4c3957cc40fb8",
   "metadata": {
    "ExecuteTime": {
     "end_time": "2024-07-21T14:37:59.892851Z",
     "start_time": "2024-07-21T14:37:59.629030Z"
    }
   },
   "source": [
    "cm = confusion_matrix(y_true=y_test, y_pred=y_pred)\n",
    "disp = ConfusionMatrixDisplay(\n",
    "    confusion_matrix=cm,\n",
    "    display_labels=labels.unique()\n",
    ")\n",
    "\n",
    "disp.plot()"
   ],
   "outputs": [
    {
     "data": {
      "text/plain": [
       "<sklearn.metrics._plot.confusion_matrix.ConfusionMatrixDisplay at 0x1c5c9dc9e10>"
      ]
     },
     "execution_count": 45,
     "metadata": {},
     "output_type": "execute_result"
    },
    {
     "data": {
      "text/plain": [
       "<Figure size 640x480 with 2 Axes>"
      ],
      "image/png": "[encoded data removed]"
     },
     "metadata": {},
     "output_type": "display_data"
    }
   ],
   "execution_count": 45
  },
  {
   "cell_type": "code",
   "id": "26518da3c43df56b",
   "metadata": {
    "ExecuteTime": {
     "end_time": "2024-07-21T14:38:00.964143Z",
     "start_time": "2024-07-21T14:37:59.893867Z"
    }
   },
   "source": [
    "# saving the best model\n",
    "best_model.save(df_saved+'BestBalancedModelContinualLearning.keras')"
   ],
   "outputs": [],
   "execution_count": 46
  }
 ],
 "metadata": {
  "colab": {
   "provenance": []
  },
  "kernelspec": {
   "display_name": "Python 3 (ipykernel)",
   "language": "python",
   "name": "python3"
  },
  "language_info": {
   "codemirror_mode": {
    "name": "ipython",
    "version": 3
   },
   "file_extension": ".py",
   "mimetype": "text/x-python",
   "name": "python",
   "nbconvert_exporter": "python",
   "pygments_lexer": "ipython3",
   "version": "3.10.9"
  }
 },
 "nbformat": 4,
 "nbformat_minor": 5
}
